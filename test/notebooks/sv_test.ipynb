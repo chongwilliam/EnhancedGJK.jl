{
 "cells": [
  {
   "cell_type": "code",
   "execution_count": 1,
   "metadata": {},
   "outputs": [
    {
     "data": {
      "text/html": [
       "<script>\n",
       "// Immediately-invoked-function-expression to avoid global variables.\n",
       "(function() {\n",
       "    var warning_div = document.getElementById(\"webio-warning-339222472278787494\");\n",
       "    var hide = function () {\n",
       "        var script = document.getElementById(\"webio-setup-12634236070526978506\");\n",
       "        var parent = script && script.parentElement;\n",
       "        var grandparent = parent && parent.parentElement;\n",
       "        if (grandparent) {\n",
       "            grandparent.style.display = \"none\";\n",
       "        }\n",
       "        warning_div.style.display = \"none\";\n",
       "    };\n",
       "    if (typeof Jupyter !== \"undefined\") {\n",
       "        console.log(\"WebIO detected Jupyter notebook environment.\");\n",
       "        // Jupyter notebook.\n",
       "        var extensions = (\n",
       "            Jupyter\n",
       "            && Jupyter.notebook.config.data\n",
       "            && Jupyter.notebook.config.data.load_extensions\n",
       "        );\n",
       "        if (extensions && extensions[\"webio-jupyter-notebook\"]) {\n",
       "            // Extension already loaded.\n",
       "            console.log(\"Jupyter WebIO nbextension detected; not loading ad-hoc.\");\n",
       "            hide();\n",
       "            return;\n",
       "        }\n",
       "    } else if (window.location.pathname.includes(\"/lab\")) {\n",
       "        // Guessing JupyterLa\n",
       "        console.log(\"Jupyter Lab detected; make sure the @webio/jupyter-lab-provider labextension is installed.\");\n",
       "        hide();\n",
       "        return;\n",
       "    }\n",
       "})();\n",
       "\n",
       "</script>\n",
       "<p\n",
       "    id=\"webio-warning-339222472278787494\"\n",
       "    class=\"output_text output_stderr\"\n",
       "    style=\"padding: 1em; font-weight: bold;\"\n",
       ">\n",
       "    Unable to load WebIO. Please make sure WebIO works for your Jupyter client.\n",
       "    For troubleshooting, please see <a href=\"https://juliagizmos.github.io/WebIO.jl/latest/providers/ijulia/\">\n",
       "    the WebIO/IJulia documentation</a>.\n",
       "    <!-- TODO: link to installation docs. -->\n",
       "</p>\n"
      ],
      "text/plain": [
       "HTML{String}(\"<script>\\n// Immediately-invoked-function-expression to avoid global variables.\\n(function() {\\n    var warning_div = document.getElementById(\\\"webio-warning-339222472278787494\\\");\\n    var hide = function () {\\n        var script = document.getElementById(\\\"webio-setup-12634236070526978506\\\");\\n        var parent = script && script.parentElement;\\n        var grandparent = parent && parent.parentElement;\\n        if (grandparent) {\\n            grandparent.style.display = \\\"none\\\";\\n        }\\n        warning_div.style.display = \\\"none\\\";\\n    };\\n    if (typeof Jupyter !== \\\"undefined\\\") {\\n        console.log(\\\"WebIO detected Jupyter notebook environment.\\\");\\n        // Jupyter notebook.\\n        var extensions = (\\n            Jupyter\\n            && Jupyter.notebook.config.data\\n            && Jupyter.notebook.config.data.load_extensions\\n        );\\n        if (extensions && extensions[\\\"webio-jupyter-notebook\\\"]) {\\n            // Extension already loaded.\\n            console.log(\\\"Jupyter WebIO nbextension detected; not loading ad-hoc.\\\");\\n            hide();\\n            return;\\n        }\\n    } else if (window.location.pathname.includes(\\\"/lab\\\")) {\\n        // Guessing JupyterLa\\n        console.log(\\\"Jupyter Lab detected; make sure the @webio/jupyter-lab-provider labextension is installed.\\\");\\n        hide();\\n        return;\\n    }\\n})();\\n\\n</script>\\n<p\\n    id=\\\"webio-warning-339222472278787494\\\"\\n    class=\\\"output_text output_stderr\\\"\\n    style=\\\"padding: 1em; font-weight: bold;\\\"\\n>\\n    Unable to load WebIO. Please make sure WebIO works for your Jupyter client.\\n    For troubleshooting, please see <a href=\\\"https://juliagizmos.github.io/WebIO.jl/latest/providers/ijulia/\\\">\\n    the WebIO/IJulia documentation</a>.\\n    <!-- TODO: link to installation docs. -->\\n</p>\\n\")"
      ]
     },
     "metadata": {},
     "output_type": "display_data"
    }
   ],
   "source": [
    "using EnhancedGJK\n",
    "using CoordinateTransformations\n",
    "import GeometryTypes: HyperRectangle, HyperSphere, Vec, Point, HomogenousMesh\n",
    "using MeshCat, ForwardDiff, StaticArrays, Colors, MeshIO, FileIO"
   ]
  },
  {
   "cell_type": "markdown",
   "metadata": {},
   "source": [
    "# Mesh-Mesh Case (Foot Convex Hull)"
   ]
  },
  {
   "cell_type": "code",
   "execution_count": 2,
   "metadata": {
    "scrolled": true
   },
   "outputs": [
    {
     "name": "stdout",
     "output_type": "stream",
     "text": [
      "OG GJK\n",
      "separation_distance(result1) = 0.7367571604043536\n",
      "result1.closest_point_in_body.a = [0.17278599739074707, -0.030078999698162905, -0.05579400062561035]\n",
      "result1.closest_point_in_body.b = [-0.09093300253152847, -0.03007899969816208, -0.02930999919772148]\n",
      "result1.weights = [0.9300260961399309, 0.06997390386006903, 0.0, 0.0]\n",
      "result1.simplex = SArray{Tuple{3},Float64,1,3}[[-0.7362810000777245, -0.004611000418663025, -0.02648400142788887], [-0.7362810000777245, 0.061285000294446945, -0.02648400142788887], [-0.7364200055599213, -0.0562950000166893, -0.027235999703407288], [-1.0, 0.0, 0.0]]\n",
      "SV GJK\n",
      "separation_distance(result2) = 0.7367571604043536\n",
      "result2.closest_point_in_body.a = [0.17278599739074707, -0.030078999698162075, -0.05579400062561035]\n",
      "result2.closest_point_in_body.b = [-0.09093300253152847, -0.03007899969816208, -0.02930999919772148]\n",
      "result2.weights = [0.0699739038600816, 0.9300260961399184, 0.0, 0.0]\n",
      "result2.simplex = SArray{Tuple{3},Float64,1,3}[[-0.7362810000777245, 0.061285000294446945, -0.02648400142788887], [-0.7362810000777245, -0.004611000418663025, -0.02648400142788887], [-0.7364200055599213, -0.0562950000166893, -0.027235999703407288], [-1.0, 0.0, 0.0]]\n",
      "result2.mesh_simplex = SArray{Tuple{3},Float64,1,3}[[0.17278599739074707, 0.031206000596284866, -0.05579400062561035], [0.17278599739074707, -0.034690000116825104, -0.05579400062561035]]\n"
     ]
    },
    {
     "data": {
      "text/plain": [
       "2-element SArray{Tuple{2},SArray{Tuple{3},Float64,1,3},1,2} with indices SOneTo(2):\n",
       " [0.17278599739074707, 0.031206000596284866, -0.05579400062561035] \n",
       " [0.17278599739074707, -0.034690000116825104, -0.05579400062561035]"
      ]
     },
     "execution_count": 2,
     "metadata": {},
     "output_type": "execute_result"
    }
   ],
   "source": [
    "# Basic test\n",
    "mesh = load(\"../test/meshes/r_foot_chull.obj\")\n",
    "result1 = gjk_original(mesh, mesh, IdentityTransformation(), Translation(SVector(1., 0, 0)));\n",
    "result2 = gjk(mesh, mesh, IdentityTransformation(), Translation(SVector(1., 0, 0)));\n",
    "\n",
    "# c1 = HomogenousMesh(HyperRectangle(Vec(0., 0, 0), Vec(1., 1, 1)))\n",
    "# c1 = HyperRectangle(Vec(0., 0, 3), Vec(1., 1, 1))\n",
    "# c2 = HomogenousMesh(HyperRectangle(Vec(3., 0, 0), Vec(1., 1, 1)))\n",
    "# c2 = HyperSphere(Point(2.,2,2), 0.5)\n",
    "# c2_pt = SVector(8,5,5)\n",
    "\n",
    "print(\"OG GJK\", \"\\n\")\n",
    "@show separation_distance(result1)\n",
    "@show result1.closest_point_in_body.a\n",
    "@show result1.closest_point_in_body.b\n",
    "@show result1.weights\n",
    "@show result1.simplex\n",
    "\n",
    "print(\"SV GJK\", \"\\n\")\n",
    "@show separation_distance(result2)\n",
    "@show result2.closest_point_in_body.a\n",
    "@show result2.closest_point_in_body.b\n",
    "@show result2.weights\n",
    "@show result2.simplex\n",
    "\n",
    "# Showing the active mesh points for matching\n",
    "@show result2.mesh_simplex"
   ]
  },
  {
   "cell_type": "code",
   "execution_count": 3,
   "metadata": {},
   "outputs": [
    {
     "data": {
      "application/vnd.webio.node+json": {
       "children": [
        {
         "children": [
          {
           "children": [],
           "instanceArgs": {
            "bundleURL": "/assetserver/3b007542faf362b67669625b677317a876d878bb-generic-http.bundle.js",
            "innerHTML": "<div\n    class=\"webio-mountpoint\"\n    data-webio-mountpoint=\"1747381623538829425\"\n>\n    <script>\n    if (window.require && require.defined && require.defined(\"nbextensions/webio-jupyter-notebook\")) {\n        console.log(\"Jupyter WebIO extension detected, not mounting.\");\n    } else if (window.WebIO) {\n        WebIO.mount(\n            document.querySelector('[data-webio-mountpoint=\"1747381623538829425\"]'),\n            {\"props\":{},\"nodeType\":\"Scope\",\"type\":\"node\",\"instanceArgs\":{\"imports\":{\"data\":[{\"name\":null,\"type\":\"js\",\"url\":\"\\/assetserver\\/cf544a313b8b4758c5b46eda729d77835c3c134e-main.min.js\"}],\"type\":\"async_block\"},\"id\":\"4404912862329702276\",\"handlers\":{\"meshcat-command\":[\"(function (val){return this.viewer.handle_command_message({\\\"data\\\":val})})\"]},\"systemjs_options\":null,\"mount_callbacks\":[\"function () {\\n    var handler = ((function (mc){var element=this.dom.children[0]; this.viewer=new mc.Viewer(element); WebIO.setval({\\\"name\\\":\\\"meshcat-request\\\",\\\"scope\\\":\\\"4404912862329702276\\\",\\\"id\\\":\\\"ob_02\\\",\\\"type\\\":\\\"observable\\\"},String(Date.now())); window.document.body.style.margin=\\\"0\\\"; return window.meshcat_viewer=this.viewer}));\\n    (WebIO.importBlock({\\\"data\\\":[{\\\"name\\\":null,\\\"type\\\":\\\"js\\\",\\\"url\\\":\\\"\\/assetserver\\/cf544a313b8b4758c5b46eda729d77835c3c134e-main.min.js\\\"}],\\\"type\\\":\\\"async_block\\\"})).then((imports) => handler.apply(this, imports));\\n}\\n\"],\"observables\":{\"meshcat-command\":{\"sync\":false,\"id\":\"ob_01\",\"value\":[]},\"meshcat-controls\":{\"sync\":true,\"id\":\"ob_03\",\"value\":[]},\"meshcat-request\":{\"sync\":true,\"id\":\"ob_02\",\"value\":\"\"}}},\"children\":[{\"props\":{\"className\":\"meshcat-viewer\",\"style\":{\"left\":0,\"right\":0,\"overflow\":\"hidden\",\"position\":\"absolute\",\"height\":\"100vh\",\"margin\":0,\"width\":\"100vw\"}},\"nodeType\":\"DOM\",\"type\":\"node\",\"instanceArgs\":{\"namespace\":\"html\",\"tag\":\"div\"},\"children\":[]}]},\n            window,\n        );\n    } else {\n        document\n            .querySelector('[data-webio-mountpoint=\"1747381623538829425\"]')\n            .innerHTML = (\n                '<strong>WebIO not detected. Please read ' +\n                '<a href=\"https://juliagizmos.github.io/WebIO.jl/latest/troubleshooting/not-detected/\">the troubleshooting guide</a> ' +\n                'for more information on how to resolve this issue.' +\n                '</strong>'\n            );\n    }\n    </script>\n</div>\n"
           },
           "nodeType": "IFrame",
           "props": {},
           "type": "node"
          }
         ],
         "instanceArgs": {
          "namespace": "html",
          "tag": "div"
         },
         "nodeType": "DOM",
         "props": {
          "style": {
           "display": "flex",
           "flexDirection": "column",
           "height": "100%",
           "margin": "inherit",
           "minHeight": "400px",
           "width": "100%"
          }
         },
         "type": "node"
        }
       ],
       "instanceArgs": {
        "handlers": {},
        "id": "10921042383918815120",
        "imports": {
         "data": [],
         "type": "async_block"
        },
        "mount_callbacks": [
         "function () {\n    var handler = ((function (){this.dom.style.height=\"100%\"; window.foo=this; return this.dom.children[0].children[0].style.flexGrow=\"1\"}));\n    (WebIO.importBlock({\"data\":[],\"type\":\"async_block\"})).then((imports) => handler.apply(this, imports));\n}\n"
        ],
        "observables": {},
        "systemjs_options": null
       },
       "nodeType": "Scope",
       "props": {},
       "type": "node"
      },
      "text/html": [
       "<div\n",
       "    class=\"webio-mountpoint\"\n",
       "    data-webio-mountpoint=\"2876168065361332569\"\n",
       ">\n",
       "    <script>\n",
       "    if (window.require && require.defined && require.defined(\"nbextensions/webio-jupyter-notebook\")) {\n",
       "        console.log(\"Jupyter WebIO extension detected, not mounting.\");\n",
       "    } else if (window.WebIO) {\n",
       "        WebIO.mount(\n",
       "            document.querySelector('[data-webio-mountpoint=\"2876168065361332569\"]'),\n",
       "            {\"props\":{},\"nodeType\":\"Scope\",\"type\":\"node\",\"instanceArgs\":{\"imports\":{\"data\":[],\"type\":\"async_block\"},\"id\":\"10921042383918815120\",\"handlers\":{},\"systemjs_options\":null,\"mount_callbacks\":[\"function () {\\n    var handler = ((function (){this.dom.style.height=\\\"100%\\\"; window.foo=this; return this.dom.children[0].children[0].style.flexGrow=\\\"1\\\"}));\\n    (WebIO.importBlock({\\\"data\\\":[],\\\"type\\\":\\\"async_block\\\"})).then((imports) => handler.apply(this, imports));\\n}\\n\"],\"observables\":{}},\"children\":[{\"props\":{\"style\":{\"flexDirection\":\"column\",\"minHeight\":\"400px\",\"height\":\"100%\",\"margin\":\"inherit\",\"display\":\"flex\",\"width\":\"100%\"}},\"nodeType\":\"DOM\",\"type\":\"node\",\"instanceArgs\":{\"namespace\":\"html\",\"tag\":\"div\"},\"children\":[{\"props\":{},\"nodeType\":\"IFrame\",\"type\":\"node\",\"instanceArgs\":{\"innerHTML\":\"<div\\n    class=\\\"webio-mountpoint\\\"\\n    data-webio-mountpoint=\\\"1747381623538829425\\\"\\n>\\n    <script>\\n    if (window.require && require.defined && require.defined(\\\"nbextensions\\/webio-jupyter-notebook\\\")) {\\n        console.log(\\\"Jupyter WebIO extension detected, not mounting.\\\");\\n    } else if (window.WebIO) {\\n        WebIO.mount(\\n            document.querySelector('[data-webio-mountpoint=\\\"1747381623538829425\\\"]'),\\n            {\\\"props\\\":{},\\\"nodeType\\\":\\\"Scope\\\",\\\"type\\\":\\\"node\\\",\\\"instanceArgs\\\":{\\\"imports\\\":{\\\"data\\\":[{\\\"name\\\":null,\\\"type\\\":\\\"js\\\",\\\"url\\\":\\\"\\\\\\/assetserver\\\\\\/cf544a313b8b4758c5b46eda729d77835c3c134e-main.min.js\\\"}],\\\"type\\\":\\\"async_block\\\"},\\\"id\\\":\\\"4404912862329702276\\\",\\\"handlers\\\":{\\\"meshcat-command\\\":[\\\"(function (val){return this.viewer.handle_command_message({\\\\\\\"data\\\\\\\":val})})\\\"]},\\\"systemjs_options\\\":null,\\\"mount_callbacks\\\":[\\\"function () {\\\\n    var handler = ((function (mc){var element=this.dom.children[0]; this.viewer=new mc.Viewer(element); WebIO.setval({\\\\\\\"name\\\\\\\":\\\\\\\"meshcat-request\\\\\\\",\\\\\\\"scope\\\\\\\":\\\\\\\"4404912862329702276\\\\\\\",\\\\\\\"id\\\\\\\":\\\\\\\"ob_02\\\\\\\",\\\\\\\"type\\\\\\\":\\\\\\\"observable\\\\\\\"},String(Date.now())); window.document.body.style.margin=\\\\\\\"0\\\\\\\"; return window.meshcat_viewer=this.viewer}));\\\\n    (WebIO.importBlock({\\\\\\\"data\\\\\\\":[{\\\\\\\"name\\\\\\\":null,\\\\\\\"type\\\\\\\":\\\\\\\"js\\\\\\\",\\\\\\\"url\\\\\\\":\\\\\\\"\\\\\\/assetserver\\\\\\/cf544a313b8b4758c5b46eda729d77835c3c134e-main.min.js\\\\\\\"}],\\\\\\\"type\\\\\\\":\\\\\\\"async_block\\\\\\\"})).then((imports) => handler.apply(this, imports));\\\\n}\\\\n\\\"],\\\"observables\\\":{\\\"meshcat-command\\\":{\\\"sync\\\":false,\\\"id\\\":\\\"ob_01\\\",\\\"value\\\":[]},\\\"meshcat-controls\\\":{\\\"sync\\\":true,\\\"id\\\":\\\"ob_03\\\",\\\"value\\\":[]},\\\"meshcat-request\\\":{\\\"sync\\\":true,\\\"id\\\":\\\"ob_02\\\",\\\"value\\\":\\\"\\\"}}},\\\"children\\\":[{\\\"props\\\":{\\\"className\\\":\\\"meshcat-viewer\\\",\\\"style\\\":{\\\"left\\\":0,\\\"right\\\":0,\\\"overflow\\\":\\\"hidden\\\",\\\"position\\\":\\\"absolute\\\",\\\"height\\\":\\\"100vh\\\",\\\"margin\\\":0,\\\"width\\\":\\\"100vw\\\"}},\\\"nodeType\\\":\\\"DOM\\\",\\\"type\\\":\\\"node\\\",\\\"instanceArgs\\\":{\\\"namespace\\\":\\\"html\\\",\\\"tag\\\":\\\"div\\\"},\\\"children\\\":[]}]},\\n            window,\\n        );\\n    } else {\\n        document\\n            .querySelector('[data-webio-mountpoint=\\\"1747381623538829425\\\"]')\\n            .innerHTML = (\\n                '<strong>WebIO not detected. Please read ' +\\n                '<a href=\\\"https:\\/\\/juliagizmos.github.io\\/WebIO.jl\\/latest\\/troubleshooting\\/not-detected\\/\\\">the troubleshooting guide<\\/a> ' +\\n                'for more information on how to resolve this issue.' +\\n                '<\\/strong>'\\n            );\\n    }\\n    <\\/script>\\n<\\/div>\\n\",\"bundleURL\":\"\\/assetserver\\/3b007542faf362b67669625b677317a876d878bb-generic-http.bundle.js\"},\"children\":[]}]}]},\n",
       "            window,\n",
       "        );\n",
       "    } else {\n",
       "        document\n",
       "            .querySelector('[data-webio-mountpoint=\"2876168065361332569\"]')\n",
       "            .innerHTML = (\n",
       "                '<strong>WebIO not detected. Please read ' +\n",
       "                '<a href=\"https://juliagizmos.github.io/WebIO.jl/latest/troubleshooting/not-detected/\">the troubleshooting guide</a> ' +\n",
       "                'for more information on how to resolve this issue.' +\n",
       "                '</strong>'\n",
       "            );\n",
       "    }\n",
       "    </script>\n",
       "</div>\n"
      ],
      "text/plain": [
       "WebIO.Scope(WebIO.Node{WebIO.DOM}(WebIO.DOM(:html, :div), Any[WebIO.Node{WebIO.IFrame}(WebIO.IFrame(\"<div\\n    class=\\\"webio-mountpoint\\\"\\n    data-webio-mountpoint=\\\"1747381623538829425\\\"\\n>\\n    <script>\\n    if (window.require && require.defined && require.defined(\\\"nbextensions/webio-jupyter-notebook\\\")) {\\n        console.log(\\\"Jupyter WebIO extension detected, not mounting.\\\");\\n    } else if (window.WebIO) {\\n        WebIO.mount(\\n            document.querySelector('[data-webio-mountpoint=\\\"1747381623538829425\\\"]'),\\n            {\\\"props\\\":{},\\\"nodeType\\\":\\\"Scope\\\",\\\"type\\\":\\\"node\\\",\\\"instanceArgs\\\":{\\\"imports\\\":{\\\"data\\\":[{\\\"name\\\":null,\\\"type\\\":\\\"js\\\",\\\"url\\\":\\\"\\\\/assetserver\\\\/cf544a313b8b4758c5b46eda729d77835c3c134e-main.min.js\\\"}],\\\"type\\\":\\\"async_block\\\"},\\\"id\\\":\\\"4404912862329702276\\\",\\\"handlers\\\":{\\\"meshcat-command\\\":[\\\"(function (val){return this.viewer.handle_command_message({\\\\\\\"data\\\\\\\":val})})\\\"]},\\\"systemjs_options\\\":null,\\\"mount_callbacks\\\":[\\\"function () {\\\\n    var handler = ((function (mc){var element=this.dom.children[0]; this.viewer=new mc.Viewer(element); WebIO.setval({\\\\\\\"name\\\\\\\":\\\\\\\"meshcat-request\\\\\\\",\\\\\\\"scope\\\\\\\":\\\\\\\"4404912862329702276\\\\\\\",\\\\\\\"id\\\\\\\":\\\\\\\"ob_02\\\\\\\",\\\\\\\"type\\\\\\\":\\\\\\\"observable\\\\\\\"},String(Date.now())); window.document.body.style.margin=\\\\\\\"0\\\\\\\"; return window.meshcat_viewer=this.viewer}));\\\\n    (WebIO.importBlock({\\\\\\\"data\\\\\\\":[{\\\\\\\"name\\\\\\\":null,\\\\\\\"type\\\\\\\":\\\\\\\"js\\\\\\\",\\\\\\\"url\\\\\\\":\\\\\\\"\\\\/assetserver\\\\/cf544a313b8b4758c5b46eda729d77835c3c134e-main.min.js\\\\\\\"}],\\\\\\\"type\\\\\\\":\\\\\\\"async_block\\\\\\\"})).then((imports) => handler.apply(this, imports));\\\\n}\\\\n\\\"],\\\"observables\\\":{\\\"meshcat-command\\\":{\\\"sync\\\":false,\\\"id\\\":\\\"ob_01\\\",\\\"value\\\":[]},\\\"meshcat-controls\\\":{\\\"sync\\\":true,\\\"id\\\":\\\"ob_03\\\",\\\"value\\\":[]},\\\"meshcat-request\\\":{\\\"sync\\\":true,\\\"id\\\":\\\"ob_02\\\",\\\"value\\\":\\\"\\\"}}},\\\"children\\\":[{\\\"props\\\":{\\\"className\\\":\\\"meshcat-viewer\\\",\\\"style\\\":{\\\"left\\\":0,\\\"right\\\":0,\\\"overflow\\\":\\\"hidden\\\",\\\"position\\\":\\\"absolute\\\",\\\"height\\\":\\\"100vh\\\",\\\"margin\\\":0,\\\"width\\\":\\\"100vw\\\"}},\\\"nodeType\\\":\\\"DOM\\\",\\\"type\\\":\\\"node\\\",\\\"instanceArgs\\\":{\\\"namespace\\\":\\\"html\\\",\\\"tag\\\":\\\"div\\\"},\\\"children\\\":[]}]},\\n            window,\\n        );\\n    } else {\\n        document\\n            .querySelector('[data-webio-mountpoint=\\\"1747381623538829425\\\"]')\\n            .innerHTML = (\\n                '<strong>WebIO not detected. Please read ' +\\n                '<a href=\\\"https://juliagizmos.github.io/WebIO.jl/latest/troubleshooting/not-detected/\\\">the troubleshooting guide</a> ' +\\n                'for more information on how to resolve this issue.' +\\n                '</strong>'\\n            );\\n    }\\n    </script>\\n</div>\\n\", \"/assetserver/3b007542faf362b67669625b677317a876d878bb-generic-http.bundle.js\"), Any[], Dict{Symbol,Any}())], Dict{Symbol,Any}(:style => Dict(:flexDirection => \"column\",:minHeight => \"400px\",:height => \"100%\",:margin => \"inherit\",:display => \"flex\",:width => \"100%\"))), Dict{String,Tuple{Observables.AbstractObservable,Union{Nothing, Bool}}}(), Set(String[]), nothing, WebIO.Asset[], Dict{Any,Any}(), WebIO.ConnectionPool(Channel{Any}(sz_max:32,sz_curr:0), Set(WebIO.AbstractConnection[]), Base.GenericCondition{Base.AlwaysLockedST}(Base.InvasiveLinkedList{Task}(Task (runnable) @0x00007fecf3eb9d50, Task (runnable) @0x00007fecf3eb9d50), Base.AlwaysLockedST(1))), WebIO.JSString[WebIO.JSString(\"function () {\\n    var handler = ((function (){this.dom.style.height=\\\"100%\\\"; window.foo=this; return this.dom.children[0].children[0].style.flexGrow=\\\"1\\\"}));\\n    (WebIO.importBlock({\\\"data\\\":[],\\\"type\\\":\\\"async_block\\\"})).then((imports) => handler.apply(this, imports));\\n}\\n\")])"
      ]
     },
     "execution_count": 3,
     "metadata": {
      "application/vnd.webio.node+json": {
       "kernelId": "ddc32575-4146-4bbf-b790-98255de818ab"
      }
     },
     "output_type": "execute_result"
    }
   ],
   "source": [
    "# Visual confirmation with point cloud field and moving sphere\n",
    "vis1 = Visualizer()\n",
    "IJuliaCell(vis1)"
   ]
  },
  {
   "cell_type": "code",
   "execution_count": 4,
   "metadata": {},
   "outputs": [
    {
     "data": {
      "text/plain": [
       "MeshCat Visualizer with path /meshcat/mesh/s2"
      ]
     },
     "execution_count": 4,
     "metadata": {},
     "output_type": "execute_result"
    }
   ],
   "source": [
    "# Visualization of the mesh\n",
    "setobject!(vis1[\"mesh/1\"], mesh)\n",
    "setobject!(vis1[\"mesh/2\"], mesh)\n",
    "settransform!(vis1[\"mesh/2\"], Translation(1., 0, 0))\n",
    "\n",
    "# Add arrows for the closest points \n",
    "\n",
    "# Red is original\n",
    "dist_vec1 = ArrowVisualizer(vis1[\"dist/a\"])\n",
    "setobject!(dist_vec1, MeshLambertMaterial(color=RGBA{Float32}(1, 0, 0, 0.5)))\n",
    "settransform!(dist_vec1, Point(result1.closest_point_in_body.a), \n",
    "    Point(result1.closest_point_in_body.b + SVector(1.,0,0)))  # poseB transformation\n",
    "\n",
    "# Green is SV\n",
    "dist_vec2 = ArrowVisualizer(vis1[\"dist/b\"])\n",
    "setobject!(dist_vec2, MeshLambertMaterial(color=RGBA{Float32}(0, 1, 0, 0.5)))\n",
    "settransform!(dist_vec2, Point(result2.poseA(result2.closest_point_in_body.a)), \n",
    "    Point(result2.poseB(result2.closest_point_in_body.b)))  # poseB transformation\n",
    "\n",
    "# Showing active mesh simplex points\n",
    "setobject!(vis1[\"mesh/s1\"], HyperSphere(Point(result2.mesh_simplex[1]), 0.01))\n",
    "setobject!(vis1[\"mesh/s2\"], HyperSphere(Point(result2.mesh_simplex[2]), 0.01))"
   ]
  },
  {
   "cell_type": "markdown",
   "metadata": {},
   "source": [
    "# Mesh-Point Test"
   ]
  },
  {
   "cell_type": "code",
   "execution_count": 5,
   "metadata": {},
   "outputs": [
    {
     "data": {
      "application/vnd.webio.node+json": {
       "children": [
        {
         "children": [
          {
           "children": [],
           "instanceArgs": {
            "bundleURL": "/assetserver/3b007542faf362b67669625b677317a876d878bb-generic-http.bundle.js",
            "innerHTML": "<div\n    class=\"webio-mountpoint\"\n    data-webio-mountpoint=\"335172402920141713\"\n>\n    <script>\n    if (window.require && require.defined && require.defined(\"nbextensions/webio-jupyter-notebook\")) {\n        console.log(\"Jupyter WebIO extension detected, not mounting.\");\n    } else if (window.WebIO) {\n        WebIO.mount(\n            document.querySelector('[data-webio-mountpoint=\"335172402920141713\"]'),\n            {\"props\":{},\"nodeType\":\"Scope\",\"type\":\"node\",\"instanceArgs\":{\"imports\":{\"data\":[{\"name\":null,\"type\":\"js\",\"url\":\"\\/assetserver\\/cf544a313b8b4758c5b46eda729d77835c3c134e-main.min.js\"}],\"type\":\"async_block\"},\"id\":\"10688592463861148843\",\"handlers\":{\"meshcat-command\":[\"(function (val){return this.viewer.handle_command_message({\\\"data\\\":val})})\"]},\"systemjs_options\":null,\"mount_callbacks\":[\"function () {\\n    var handler = ((function (mc){var element=this.dom.children[0]; this.viewer=new mc.Viewer(element); WebIO.setval({\\\"name\\\":\\\"meshcat-request\\\",\\\"scope\\\":\\\"10688592463861148843\\\",\\\"id\\\":\\\"ob_05\\\",\\\"type\\\":\\\"observable\\\"},String(Date.now())); window.document.body.style.margin=\\\"0\\\"; return window.meshcat_viewer=this.viewer}));\\n    (WebIO.importBlock({\\\"data\\\":[{\\\"name\\\":null,\\\"type\\\":\\\"js\\\",\\\"url\\\":\\\"\\/assetserver\\/cf544a313b8b4758c5b46eda729d77835c3c134e-main.min.js\\\"}],\\\"type\\\":\\\"async_block\\\"})).then((imports) => handler.apply(this, imports));\\n}\\n\"],\"observables\":{\"meshcat-command\":{\"sync\":false,\"id\":\"ob_04\",\"value\":[]},\"meshcat-controls\":{\"sync\":true,\"id\":\"ob_06\",\"value\":[]},\"meshcat-request\":{\"sync\":true,\"id\":\"ob_05\",\"value\":\"\"}}},\"children\":[{\"props\":{\"className\":\"meshcat-viewer\",\"style\":{\"left\":0,\"right\":0,\"overflow\":\"hidden\",\"position\":\"absolute\",\"height\":\"100vh\",\"margin\":0,\"width\":\"100vw\"}},\"nodeType\":\"DOM\",\"type\":\"node\",\"instanceArgs\":{\"namespace\":\"html\",\"tag\":\"div\"},\"children\":[]}]},\n            window,\n        );\n    } else {\n        document\n            .querySelector('[data-webio-mountpoint=\"335172402920141713\"]')\n            .innerHTML = (\n                '<strong>WebIO not detected. Please read ' +\n                '<a href=\"https://juliagizmos.github.io/WebIO.jl/latest/troubleshooting/not-detected/\">the troubleshooting guide</a> ' +\n                'for more information on how to resolve this issue.' +\n                '</strong>'\n            );\n    }\n    </script>\n</div>\n"
           },
           "nodeType": "IFrame",
           "props": {},
           "type": "node"
          }
         ],
         "instanceArgs": {
          "namespace": "html",
          "tag": "div"
         },
         "nodeType": "DOM",
         "props": {
          "style": {
           "display": "flex",
           "flexDirection": "column",
           "height": "100%",
           "margin": "inherit",
           "minHeight": "400px",
           "width": "100%"
          }
         },
         "type": "node"
        }
       ],
       "instanceArgs": {
        "handlers": {},
        "id": "2808492232803700963",
        "imports": {
         "data": [],
         "type": "async_block"
        },
        "mount_callbacks": [
         "function () {\n    var handler = ((function (){this.dom.style.height=\"100%\"; window.foo=this; return this.dom.children[0].children[0].style.flexGrow=\"1\"}));\n    (WebIO.importBlock({\"data\":[],\"type\":\"async_block\"})).then((imports) => handler.apply(this, imports));\n}\n"
        ],
        "observables": {},
        "systemjs_options": null
       },
       "nodeType": "Scope",
       "props": {},
       "type": "node"
      },
      "text/html": [
       "<div\n",
       "    class=\"webio-mountpoint\"\n",
       "    data-webio-mountpoint=\"2610198019504431232\"\n",
       ">\n",
       "    <script>\n",
       "    if (window.require && require.defined && require.defined(\"nbextensions/webio-jupyter-notebook\")) {\n",
       "        console.log(\"Jupyter WebIO extension detected, not mounting.\");\n",
       "    } else if (window.WebIO) {\n",
       "        WebIO.mount(\n",
       "            document.querySelector('[data-webio-mountpoint=\"2610198019504431232\"]'),\n",
       "            {\"props\":{},\"nodeType\":\"Scope\",\"type\":\"node\",\"instanceArgs\":{\"imports\":{\"data\":[],\"type\":\"async_block\"},\"id\":\"2808492232803700963\",\"handlers\":{},\"systemjs_options\":null,\"mount_callbacks\":[\"function () {\\n    var handler = ((function (){this.dom.style.height=\\\"100%\\\"; window.foo=this; return this.dom.children[0].children[0].style.flexGrow=\\\"1\\\"}));\\n    (WebIO.importBlock({\\\"data\\\":[],\\\"type\\\":\\\"async_block\\\"})).then((imports) => handler.apply(this, imports));\\n}\\n\"],\"observables\":{}},\"children\":[{\"props\":{\"style\":{\"flexDirection\":\"column\",\"minHeight\":\"400px\",\"height\":\"100%\",\"margin\":\"inherit\",\"display\":\"flex\",\"width\":\"100%\"}},\"nodeType\":\"DOM\",\"type\":\"node\",\"instanceArgs\":{\"namespace\":\"html\",\"tag\":\"div\"},\"children\":[{\"props\":{},\"nodeType\":\"IFrame\",\"type\":\"node\",\"instanceArgs\":{\"innerHTML\":\"<div\\n    class=\\\"webio-mountpoint\\\"\\n    data-webio-mountpoint=\\\"335172402920141713\\\"\\n>\\n    <script>\\n    if (window.require && require.defined && require.defined(\\\"nbextensions\\/webio-jupyter-notebook\\\")) {\\n        console.log(\\\"Jupyter WebIO extension detected, not mounting.\\\");\\n    } else if (window.WebIO) {\\n        WebIO.mount(\\n            document.querySelector('[data-webio-mountpoint=\\\"335172402920141713\\\"]'),\\n            {\\\"props\\\":{},\\\"nodeType\\\":\\\"Scope\\\",\\\"type\\\":\\\"node\\\",\\\"instanceArgs\\\":{\\\"imports\\\":{\\\"data\\\":[{\\\"name\\\":null,\\\"type\\\":\\\"js\\\",\\\"url\\\":\\\"\\\\\\/assetserver\\\\\\/cf544a313b8b4758c5b46eda729d77835c3c134e-main.min.js\\\"}],\\\"type\\\":\\\"async_block\\\"},\\\"id\\\":\\\"10688592463861148843\\\",\\\"handlers\\\":{\\\"meshcat-command\\\":[\\\"(function (val){return this.viewer.handle_command_message({\\\\\\\"data\\\\\\\":val})})\\\"]},\\\"systemjs_options\\\":null,\\\"mount_callbacks\\\":[\\\"function () {\\\\n    var handler = ((function (mc){var element=this.dom.children[0]; this.viewer=new mc.Viewer(element); WebIO.setval({\\\\\\\"name\\\\\\\":\\\\\\\"meshcat-request\\\\\\\",\\\\\\\"scope\\\\\\\":\\\\\\\"10688592463861148843\\\\\\\",\\\\\\\"id\\\\\\\":\\\\\\\"ob_05\\\\\\\",\\\\\\\"type\\\\\\\":\\\\\\\"observable\\\\\\\"},String(Date.now())); window.document.body.style.margin=\\\\\\\"0\\\\\\\"; return window.meshcat_viewer=this.viewer}));\\\\n    (WebIO.importBlock({\\\\\\\"data\\\\\\\":[{\\\\\\\"name\\\\\\\":null,\\\\\\\"type\\\\\\\":\\\\\\\"js\\\\\\\",\\\\\\\"url\\\\\\\":\\\\\\\"\\\\\\/assetserver\\\\\\/cf544a313b8b4758c5b46eda729d77835c3c134e-main.min.js\\\\\\\"}],\\\\\\\"type\\\\\\\":\\\\\\\"async_block\\\\\\\"})).then((imports) => handler.apply(this, imports));\\\\n}\\\\n\\\"],\\\"observables\\\":{\\\"meshcat-command\\\":{\\\"sync\\\":false,\\\"id\\\":\\\"ob_04\\\",\\\"value\\\":[]},\\\"meshcat-controls\\\":{\\\"sync\\\":true,\\\"id\\\":\\\"ob_06\\\",\\\"value\\\":[]},\\\"meshcat-request\\\":{\\\"sync\\\":true,\\\"id\\\":\\\"ob_05\\\",\\\"value\\\":\\\"\\\"}}},\\\"children\\\":[{\\\"props\\\":{\\\"className\\\":\\\"meshcat-viewer\\\",\\\"style\\\":{\\\"left\\\":0,\\\"right\\\":0,\\\"overflow\\\":\\\"hidden\\\",\\\"position\\\":\\\"absolute\\\",\\\"height\\\":\\\"100vh\\\",\\\"margin\\\":0,\\\"width\\\":\\\"100vw\\\"}},\\\"nodeType\\\":\\\"DOM\\\",\\\"type\\\":\\\"node\\\",\\\"instanceArgs\\\":{\\\"namespace\\\":\\\"html\\\",\\\"tag\\\":\\\"div\\\"},\\\"children\\\":[]}]},\\n            window,\\n        );\\n    } else {\\n        document\\n            .querySelector('[data-webio-mountpoint=\\\"335172402920141713\\\"]')\\n            .innerHTML = (\\n                '<strong>WebIO not detected. Please read ' +\\n                '<a href=\\\"https:\\/\\/juliagizmos.github.io\\/WebIO.jl\\/latest\\/troubleshooting\\/not-detected\\/\\\">the troubleshooting guide<\\/a> ' +\\n                'for more information on how to resolve this issue.' +\\n                '<\\/strong>'\\n            );\\n    }\\n    <\\/script>\\n<\\/div>\\n\",\"bundleURL\":\"\\/assetserver\\/3b007542faf362b67669625b677317a876d878bb-generic-http.bundle.js\"},\"children\":[]}]}]},\n",
       "            window,\n",
       "        );\n",
       "    } else {\n",
       "        document\n",
       "            .querySelector('[data-webio-mountpoint=\"2610198019504431232\"]')\n",
       "            .innerHTML = (\n",
       "                '<strong>WebIO not detected. Please read ' +\n",
       "                '<a href=\"https://juliagizmos.github.io/WebIO.jl/latest/troubleshooting/not-detected/\">the troubleshooting guide</a> ' +\n",
       "                'for more information on how to resolve this issue.' +\n",
       "                '</strong>'\n",
       "            );\n",
       "    }\n",
       "    </script>\n",
       "</div>\n"
      ],
      "text/plain": [
       "WebIO.Scope(WebIO.Node{WebIO.DOM}(WebIO.DOM(:html, :div), Any[WebIO.Node{WebIO.IFrame}(WebIO.IFrame(\"<div\\n    class=\\\"webio-mountpoint\\\"\\n    data-webio-mountpoint=\\\"335172402920141713\\\"\\n>\\n    <script>\\n    if (window.require && require.defined && require.defined(\\\"nbextensions/webio-jupyter-notebook\\\")) {\\n        console.log(\\\"Jupyter WebIO extension detected, not mounting.\\\");\\n    } else if (window.WebIO) {\\n        WebIO.mount(\\n            document.querySelector('[data-webio-mountpoint=\\\"335172402920141713\\\"]'),\\n            {\\\"props\\\":{},\\\"nodeType\\\":\\\"Scope\\\",\\\"type\\\":\\\"node\\\",\\\"instanceArgs\\\":{\\\"imports\\\":{\\\"data\\\":[{\\\"name\\\":null,\\\"type\\\":\\\"js\\\",\\\"url\\\":\\\"\\\\/assetserver\\\\/cf544a313b8b4758c5b46eda729d77835c3c134e-main.min.js\\\"}],\\\"type\\\":\\\"async_block\\\"},\\\"id\\\":\\\"10688592463861148843\\\",\\\"handlers\\\":{\\\"meshcat-command\\\":[\\\"(function (val){return this.viewer.handle_command_message({\\\\\\\"data\\\\\\\":val})})\\\"]},\\\"systemjs_options\\\":null,\\\"mount_callbacks\\\":[\\\"function () {\\\\n    var handler = ((function (mc){var element=this.dom.children[0]; this.viewer=new mc.Viewer(element); WebIO.setval({\\\\\\\"name\\\\\\\":\\\\\\\"meshcat-request\\\\\\\",\\\\\\\"scope\\\\\\\":\\\\\\\"10688592463861148843\\\\\\\",\\\\\\\"id\\\\\\\":\\\\\\\"ob_05\\\\\\\",\\\\\\\"type\\\\\\\":\\\\\\\"observable\\\\\\\"},String(Date.now())); window.document.body.style.margin=\\\\\\\"0\\\\\\\"; return window.meshcat_viewer=this.viewer}));\\\\n    (WebIO.importBlock({\\\\\\\"data\\\\\\\":[{\\\\\\\"name\\\\\\\":null,\\\\\\\"type\\\\\\\":\\\\\\\"js\\\\\\\",\\\\\\\"url\\\\\\\":\\\\\\\"\\\\/assetserver\\\\/cf544a313b8b4758c5b46eda729d77835c3c134e-main.min.js\\\\\\\"}],\\\\\\\"type\\\\\\\":\\\\\\\"async_block\\\\\\\"})).then((imports) => handler.apply(this, imports));\\\\n}\\\\n\\\"],\\\"observables\\\":{\\\"meshcat-command\\\":{\\\"sync\\\":false,\\\"id\\\":\\\"ob_04\\\",\\\"value\\\":[]},\\\"meshcat-controls\\\":{\\\"sync\\\":true,\\\"id\\\":\\\"ob_06\\\",\\\"value\\\":[]},\\\"meshcat-request\\\":{\\\"sync\\\":true,\\\"id\\\":\\\"ob_05\\\",\\\"value\\\":\\\"\\\"}}},\\\"children\\\":[{\\\"props\\\":{\\\"className\\\":\\\"meshcat-viewer\\\",\\\"style\\\":{\\\"left\\\":0,\\\"right\\\":0,\\\"overflow\\\":\\\"hidden\\\",\\\"position\\\":\\\"absolute\\\",\\\"height\\\":\\\"100vh\\\",\\\"margin\\\":0,\\\"width\\\":\\\"100vw\\\"}},\\\"nodeType\\\":\\\"DOM\\\",\\\"type\\\":\\\"node\\\",\\\"instanceArgs\\\":{\\\"namespace\\\":\\\"html\\\",\\\"tag\\\":\\\"div\\\"},\\\"children\\\":[]}]},\\n            window,\\n        );\\n    } else {\\n        document\\n            .querySelector('[data-webio-mountpoint=\\\"335172402920141713\\\"]')\\n            .innerHTML = (\\n                '<strong>WebIO not detected. Please read ' +\\n                '<a href=\\\"https://juliagizmos.github.io/WebIO.jl/latest/troubleshooting/not-detected/\\\">the troubleshooting guide</a> ' +\\n                'for more information on how to resolve this issue.' +\\n                '</strong>'\\n            );\\n    }\\n    </script>\\n</div>\\n\", \"/assetserver/3b007542faf362b67669625b677317a876d878bb-generic-http.bundle.js\"), Any[], Dict{Symbol,Any}())], Dict{Symbol,Any}(:style => Dict(:flexDirection => \"column\",:minHeight => \"400px\",:height => \"100%\",:margin => \"inherit\",:display => \"flex\",:width => \"100%\"))), Dict{String,Tuple{Observables.AbstractObservable,Union{Nothing, Bool}}}(), Set(String[]), nothing, WebIO.Asset[], Dict{Any,Any}(), WebIO.ConnectionPool(Channel{Any}(sz_max:32,sz_curr:0), Set(WebIO.AbstractConnection[]), Base.GenericCondition{Base.AlwaysLockedST}(Base.InvasiveLinkedList{Task}(Task (runnable) @0x00007fecc844c280, Task (runnable) @0x00007fecc844c280), Base.AlwaysLockedST(1))), WebIO.JSString[WebIO.JSString(\"function () {\\n    var handler = ((function (){this.dom.style.height=\\\"100%\\\"; window.foo=this; return this.dom.children[0].children[0].style.flexGrow=\\\"1\\\"}));\\n    (WebIO.importBlock({\\\"data\\\":[],\\\"type\\\":\\\"async_block\\\"})).then((imports) => handler.apply(this, imports));\\n}\\n\")])"
      ]
     },
     "execution_count": 5,
     "metadata": {
      "application/vnd.webio.node+json": {
       "kernelId": "ddc32575-4146-4bbf-b790-98255de818ab"
      }
     },
     "output_type": "execute_result"
    }
   ],
   "source": [
    "# Visual confirmation with point cloud field and moving sphere\n",
    "vis = Visualizer()\n",
    "IJuliaCell(vis)"
   ]
  },
  {
   "cell_type": "code",
   "execution_count": 6,
   "metadata": {
    "scrolled": true
   },
   "outputs": [],
   "source": [
    "# Load mesh\n",
    "# c1 = HyperRectangle(Vec(-0.5, -0.5, 0.5), Vec(1., 1, 0.1))\n",
    "# c1 = HyperRectangle(Vec(-0.5, -0.5, 0.5), Vec(1., 1, 0.1))\n",
    "# c1 = HyperSphere(Point(0.,0,0), 0.05)\n",
    "c1 = load(\"../test/meshes/r_foot_chull.obj\")\n",
    "\n",
    "# Get point array\n",
    "len = 5\n",
    "c2 = @MMatrix randn(len*len,3)  # each row holds a single point \n",
    "cnt = 1\n",
    "# x_off, y_off = 3, 3\n",
    "x_off, y_off = 0.15, 0.15\n",
    "z_off = 0.43\n",
    "for i = 1:len\n",
    "    for j = 1:len\n",
    "        c2[cnt,:] = [i/20-x_off,j/20-y_off,z_off]\n",
    "        cnt += 1\n",
    "    end\n",
    "end        \n",
    "\n",
    "# Setup z height and composite transformation\n",
    "z_height = 0.5\n",
    "# hull_tf = compose(Translation(SVector(0,0,z_height)), LinearMap(RotX(pi)))\n",
    "hull_tf = Translation(SVector(0,0,z_height))\n",
    "\n",
    "result1 = []  # OG\n",
    "result2 = []  # SV \n",
    "body_pts1 = []  # OG\n",
    "body_pts2 = []  # SV\n",
    "\n",
    "for i = 1:len*len\n",
    "#     print(\"\\n\", \"Point:\", i, \"\\n\")\n",
    "#     print(SVector(c2[i,:]), \"\\n\")\n",
    "        \n",
    "    res1 = gjk_original(c1, SVector(c2[i,:]), hull_tf, IdentityTransformation());\n",
    "    res2 = gjk(c1, SVector(c2[i,:]), hull_tf, IdentityTransformation());\n",
    "    \n",
    "    push!(result1, res1)\n",
    "    push!(body_pts1, res1.closest_point_in_body.a + SVector(0,0,z_height))\n",
    "    \n",
    "    push!(result2, res2)\n",
    "#     push!(body_pts2, res2.closest_point_in_body.a + SVector(0,0,z_height))\n",
    "    push!(body_pts2, res2.poseA(res2.closest_point_in_body.a))\n",
    "end\n",
    "\n",
    "# res = gjk(c1, SVector(c2[10,:]))"
   ]
  },
  {
   "cell_type": "code",
   "execution_count": 7,
   "metadata": {
    "scrolled": true
   },
   "outputs": [
    {
     "name": "stdout",
     "output_type": "stream",
     "text": [
      "Point: 1\n",
      "OG distance: 0.047404215453008686\n",
      "SV distance: 0.04644272870530838\n",
      "\n",
      "Point: 2\n",
      "OG distance: 0.013981971724005017\n",
      "SV distance: 0.013981971724005017\n",
      "\n",
      "Point: 3\n",
      "OG distance: 0.013851434758965378\n",
      "SV distance: 0.01183232516807892\n",
      "\n",
      "Point: 4\n",
      "OG distance: 0.015317870463653138\n",
      "SV distance: 0.01531787046365314\n",
      "\n",
      "Point: 5\n",
      "OG distance: 0.04997253055713032\n",
      "SV distance: 0.048995901826032265\n",
      "\n",
      "Point: 6\n",
      "OG distance: 0.03298149558644441\n",
      "SV distance: 0.03259077874026966\n",
      "\n",
      "Point: 7\n",
      "OG distance: 0.002084914073721123\n",
      "SV in collision: 0.0015652790000962\n",
      "\n",
      "Point: 8\n",
      "OG in collision: 0.006450682422535811\n",
      "SV in collision: 0.004086057508097413\n",
      "\n",
      "Point: 9\n",
      "OG distance: 0.000652106935672005\n",
      "SV in collision: 0.0006521069356720058\n",
      "\n",
      "Point: 10\n",
      "OG distance: 0.03630076956784758\n",
      "SV distance: 0.03603569017301474\n",
      "\n",
      "Point: 11\n",
      "OG distance: 0.03303069612224953\n",
      "SV distance: 0.03259077874026965\n",
      "\n",
      "Point: 12\n",
      "OG in collision: 0.0006779389205042266\n",
      "SV in collision: 0.003073351978064606\n",
      "\n",
      "Point: 13\n",
      "OG in collision: 0.006448763175905084\n",
      "SV in collision: 0.00014141602318735544\n",
      "\n",
      "Point: 14\n",
      "OG distance: 0.0009866612238572671\n",
      "SV in collision: 0.001223344846810907\n",
      "\n",
      "Point: 15\n",
      "OG distance: 0.036411872226549555\n",
      "SV distance: 0.036036831893311264\n",
      "\n",
      "Point: 16\n",
      "OG distance: 0.03259077874026966\n",
      "SV distance: 0.03259077874026965\n",
      "\n",
      "Point: 17\n",
      "OG in collision: 0.0011520843322830611\n",
      "SV in collision: 0.0020492116543950577\n",
      "\n",
      "Point: 18\n",
      "OG in collision: 0.006449522439409018\n",
      "SV in collision: 0.004609025631356912\n",
      "\n",
      "Point: 19\n",
      "OG in collision: 0.006296294948743674\n",
      "SV in collision: 0.0019213772793302251\n",
      "\n",
      "Point: 20\n",
      "OG distance: 0.03641798056414483\n",
      "SV distance: 0.036042913411223905\n",
      "\n",
      "Point: 21\n",
      "OG distance: 0.03259081477433457\n",
      "SV distance: 0.03259081477433458\n",
      "\n",
      "Point: 22\n",
      "OG distance: 0.006449322432900303\n",
      "SV in collision: 0.00025318075938060114\n",
      "\n",
      "Point: 23\n",
      "OG in collision: 0.006449279580009978\n",
      "SV in collision: 0.0002703729106481897\n",
      "\n",
      "Point: 24\n",
      "OG in collision: 0.00546922180764439\n",
      "SV in collision: 0.003430615929335468\n",
      "\n",
      "Point: 25\n",
      "OG distance: 0.03642408890174011\n",
      "SV distance: 0.036048994929136546\n",
      "\n"
     ]
    }
   ],
   "source": [
    "# Compare results\n",
    "for i = 1:25\n",
    "    print(\"Point: \", i, \"\\n\")\n",
    "    if result1[i].in_collision\n",
    "        print(\"OG in collision: \", simplex_penetration_distance(result1[i]), \"\\n\")        \n",
    "    else\n",
    "        print(\"OG distance: \", separation_distance(result1[i]), \"\\n\")\n",
    "    end\n",
    "    if result2[i].in_collision\n",
    "        print(\"SV in collision: \", simplex_penetration_distance(result2[i]), \"\\n\", \"\\n\")\n",
    "    else\n",
    "        print(\"SV distance: \", separation_distance(result2[i]), \"\\n\", \"\\n\")\n",
    "    end\n",
    "end"
   ]
  },
  {
   "cell_type": "code",
   "execution_count": 8,
   "metadata": {},
   "outputs": [],
   "source": [
    "# Plot point and box \n",
    "setobject!(vis[\"box\"], c1)\n",
    "settransform!(vis[\"box\"], Translation(0, 0, z_height))\n",
    "# settransform!(vis[\"box\"], compose(Translation(0, 0, z_height), LinearMap(RotX(pi))))\n",
    "\n",
    "for i = 1:len*len\n",
    "    setobject!(vis[string(\"sphere/\",string(i))], HyperSphere(Point(c2[i,1], c2[i,2], c2[i,3]), 0.005 + 0*0.0005*i))\n",
    "end  \n",
    "\n",
    "dist1 = []  # container for OG arrows\n",
    "dist2 = []  # container for SV arrows\n",
    "\n",
    "# Draw vector from point to point in body\n",
    "for i = 1:len*len\n",
    "    # OG (red arrow color)\n",
    "    push!(dist1, ArrowVisualizer(vis[string(\"dist1/\",string(i))]))\n",
    "    if result1[i].in_collision == 0\n",
    "        setobject!(dist1[i], MeshLambertMaterial(color=RGBA{Float32}(1, 0, 0, 0.5)))\n",
    "        settransform!(dist1[i], Point(c2[i,1], c2[i,2], c2[i,3]), Point(body_pts1[i][1], \n",
    "                body_pts1[i][2], body_pts1[i][3]))\n",
    "    end\n",
    "    \n",
    "    # SV (green arrow color)\n",
    "    push!(dist2, ArrowVisualizer(vis[string(\"dist2/\",string(i))]))\n",
    "    if result2[i].in_collision == 0\n",
    "        setobject!(dist2[i], MeshLambertMaterial(color=RGBA{Float32}(0, 1, 0, 0.5)))\n",
    "        settransform!(dist2[i], Point(c2[i,1], c2[i,2], c2[i,3]), Point(body_pts2[i][1], \n",
    "                body_pts2[i][2], body_pts2[i][3]))\n",
    "    end\n",
    "end   "
   ]
  },
  {
   "cell_type": "markdown",
   "metadata": {},
   "source": [
    "# Forward Differentiation"
   ]
  },
  {
   "cell_type": "code",
   "execution_count": 9,
   "metadata": {
    "scrolled": true
   },
   "outputs": [
    {
     "name": "stdout",
     "output_type": "stream",
     "text": [
      "Gradient: [0.06714331024253746, 0.0741986007119853, 0.9949805744546262]"
     ]
    }
   ],
   "source": [
    "# Using ForwardDiff for gradients\n",
    "function gjk_diff(x::AbstractVector{T}) where T  # x is translation (can be some composite transformation)\n",
    "    result = gjk(c1, SVector(c2[1,:]), Translation(x), IdentityTransformation())\n",
    "    return separation_distance(result)\n",
    "end\n",
    "\n",
    "x = [0., 0., 1.]\n",
    "grad = ForwardDiff.gradient(gjk_diff, x)\n",
    "print(\"Gradient: \", grad)"
   ]
  },
  {
   "cell_type": "code",
   "execution_count": null,
   "metadata": {},
   "outputs": [],
   "source": []
  }
 ],
 "metadata": {
  "@webio": {
   "lastCommId": "0702453bd0fb4dc88d3e69fa1e2ae4e3",
   "lastKernelId": "ddc32575-4146-4bbf-b790-98255de818ab"
  },
  "kernelspec": {
   "display_name": "Julia 1.3.0",
   "language": "julia",
   "name": "julia-1.3"
  },
  "language_info": {
   "file_extension": ".jl",
   "mimetype": "application/julia",
   "name": "julia",
   "version": "1.3.0"
  }
 },
 "nbformat": 4,
 "nbformat_minor": 2
}
