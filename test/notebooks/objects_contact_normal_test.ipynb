{
 "cells": [
  {
   "cell_type": "code",
   "execution_count": 1,
   "metadata": {},
   "outputs": [
    {
     "data": {
      "text/html": [
       "<script>\n",
       "// Immediately-invoked-function-expression to avoid global variables.\n",
       "(function() {\n",
       "    var warning_div = document.getElementById(\"webio-warning-1412344996872157805\");\n",
       "    var hide = function () {\n",
       "        var script = document.getElementById(\"webio-setup-5466214639988803338\");\n",
       "        var parent = script && script.parentElement;\n",
       "        var grandparent = parent && parent.parentElement;\n",
       "        if (grandparent) {\n",
       "            grandparent.style.display = \"none\";\n",
       "        }\n",
       "        warning_div.style.display = \"none\";\n",
       "    };\n",
       "    if (typeof Jupyter !== \"undefined\") {\n",
       "        console.log(\"WebIO detected Jupyter notebook environment.\");\n",
       "        // Jupyter notebook.\n",
       "        var extensions = (\n",
       "            Jupyter\n",
       "            && Jupyter.notebook.config.data\n",
       "            && Jupyter.notebook.config.data.load_extensions\n",
       "        );\n",
       "        if (extensions && extensions[\"webio-jupyter-notebook\"]) {\n",
       "            // Extension already loaded.\n",
       "            console.log(\"Jupyter WebIO nbextension detected; not loading ad-hoc.\");\n",
       "            hide();\n",
       "            return;\n",
       "        }\n",
       "    } else if (window.location.pathname.includes(\"/lab\")) {\n",
       "        // Guessing JupyterLa\n",
       "        console.log(\"Jupyter Lab detected; make sure the @webio/jupyter-lab-provider labextension is installed.\");\n",
       "        hide();\n",
       "        return;\n",
       "    }\n",
       "})();\n",
       "\n",
       "</script>\n",
       "<p\n",
       "    id=\"webio-warning-1412344996872157805\"\n",
       "    class=\"output_text output_stderr\"\n",
       "    style=\"padding: 1em; font-weight: bold;\"\n",
       ">\n",
       "    Unable to load WebIO. Please make sure WebIO works for your Jupyter client.\n",
       "    For troubleshooting, please see <a href=\"https://juliagizmos.github.io/WebIO.jl/latest/providers/ijulia/\">\n",
       "    the WebIO/IJulia documentation</a>.\n",
       "    <!-- TODO: link to installation docs. -->\n",
       "</p>\n"
      ],
      "text/plain": [
       "HTML{String}(\"<script>\\n// Immediately-invoked-function-expression to avoid global variables.\\n(function() {\\n    var warning_div = document.getElementById(\\\"webio-warning-1412344996872157805\\\");\\n    var hide = function () {\\n        var script = document.getElementById(\\\"webio-setup-5466214639988803338\\\");\\n        var parent = script && script.parentElement;\\n        var grandparent = parent && parent.parentElement;\\n        if (grandparent) {\\n            grandparent.style.display = \\\"none\\\";\\n        }\\n        warning_div.style.display = \\\"none\\\";\\n    };\\n    if (typeof Jupyter !== \\\"undefined\\\") {\\n        console.log(\\\"WebIO detected Jupyter notebook environment.\\\");\\n        // Jupyter notebook.\\n        var extensions = (\\n            Jupyter\\n            && Jupyter.notebook.config.data\\n            && Jupyter.notebook.config.data.load_extensions\\n        );\\n        if (extensions && extensions[\\\"webio-jupyter-notebook\\\"]) {\\n            // Extension already loaded.\\n            console.log(\\\"Jupyter WebIO nbextension detected; not loading ad-hoc.\\\");\\n            hide();\\n            return;\\n        }\\n    } else if (window.location.pathname.includes(\\\"/lab\\\")) {\\n        // Guessing JupyterLa\\n        console.log(\\\"Jupyter Lab detected; make sure the @webio/jupyter-lab-provider labextension is installed.\\\");\\n        hide();\\n        return;\\n    }\\n})();\\n\\n</script>\\n<p\\n    id=\\\"webio-warning-1412344996872157805\\\"\\n    class=\\\"output_text output_stderr\\\"\\n    style=\\\"padding: 1em; font-weight: bold;\\\"\\n>\\n    Unable to load WebIO. Please make sure WebIO works for your Jupyter client.\\n    For troubleshooting, please see <a href=\\\"https://juliagizmos.github.io/WebIO.jl/latest/providers/ijulia/\\\">\\n    the WebIO/IJulia documentation</a>.\\n    <!-- TODO: link to installation docs. -->\\n</p>\\n\")"
      ]
     },
     "metadata": {},
     "output_type": "display_data"
    }
   ],
   "source": [
    "using EnhancedGJK\n",
    "using CoordinateTransformations\n",
    "import GeometryTypes: HyperRectangle, HyperSphere, Vec, Point, HomogenousMesh\n",
    "using MeshCat, ForwardDiff, StaticArrays, Colors, MeshIO, FileIO, ColorTypes\n",
    "using Random, Distributions, LinearAlgebra\n",
    "# using Combinatorics"
   ]
  },
  {
   "cell_type": "code",
   "execution_count": 2,
   "metadata": {},
   "outputs": [
    {
     "data": {
      "text/plain": [
       "list_normals (generic function with 1 method)"
      ]
     },
     "execution_count": 2,
     "metadata": {},
     "output_type": "execute_result"
    }
   ],
   "source": [
    "# Define function to loop through all results and calculate contact normals\n",
    "function list_normals(results, min_points)  # input list of results of privileged object\n",
    "    contact_normals = []  # list of contact normals results\n",
    "    T = length(results)\n",
    "    for i = 1:T  # only need to check forward combinations to get unique contact normals\n",
    "        j_ind = 1:T  # check the rest of results with range \n",
    "        j = j_ind[1:end .!= i]  # exclude result i \n",
    "        contact_result = normal(results[i], results[j], min_points, 9.9e-3, 1)\n",
    "        if contact_result != -1\n",
    "            push!(contact_normals, [contact_result[1], contact_result[2], \n",
    "                    contact_result[3], contact_result[4]]) \n",
    "            # mean point, contact directions, num_points, list of neighbor points\n",
    "        end\n",
    "    end\n",
    "    return contact_normals\n",
    "end"
   ]
  },
  {
   "cell_type": "code",
   "execution_count": 3,
   "metadata": {
    "scrolled": false
   },
   "outputs": [
    {
     "data": {
      "application/vnd.webio.node+json": {
       "children": [
        {
         "children": [
          {
           "children": [],
           "instanceArgs": {
            "bundleURL": "/assetserver/3b007542faf362b67669625b677317a876d878bb-generic-http.bundle.js",
            "innerHTML": "<div\n    class=\"webio-mountpoint\"\n    data-webio-mountpoint=\"14299406796703651670\"\n>\n    <script>\n    if (window.require && require.defined && require.defined(\"nbextensions/webio-jupyter-notebook\")) {\n        console.log(\"Jupyter WebIO extension detected, not mounting.\");\n    } else if (window.WebIO) {\n        WebIO.mount(\n            document.querySelector('[data-webio-mountpoint=\"14299406796703651670\"]'),\n            {\"props\":{},\"nodeType\":\"Scope\",\"type\":\"node\",\"instanceArgs\":{\"imports\":{\"data\":[{\"name\":null,\"type\":\"js\",\"url\":\"\\/assetserver\\/cf544a313b8b4758c5b46eda729d77835c3c134e-main.min.js\"}],\"type\":\"async_block\"},\"id\":\"15111801971699624513\",\"handlers\":{\"meshcat-command\":[\"(function (val){return this.viewer.handle_command_message({\\\"data\\\":val})})\"]},\"systemjs_options\":null,\"mount_callbacks\":[\"function () {\\n    var handler = ((function (mc){var element=this.dom.children[0]; this.viewer=new mc.Viewer(element); WebIO.setval({\\\"name\\\":\\\"meshcat-request\\\",\\\"scope\\\":\\\"15111801971699624513\\\",\\\"id\\\":\\\"ob_02\\\",\\\"type\\\":\\\"observable\\\"},String(Date.now())); window.document.body.style.margin=\\\"0\\\"; return window.meshcat_viewer=this.viewer}));\\n    (WebIO.importBlock({\\\"data\\\":[{\\\"name\\\":null,\\\"type\\\":\\\"js\\\",\\\"url\\\":\\\"\\/assetserver\\/cf544a313b8b4758c5b46eda729d77835c3c134e-main.min.js\\\"}],\\\"type\\\":\\\"async_block\\\"})).then((imports) => handler.apply(this, imports));\\n}\\n\"],\"observables\":{\"meshcat-command\":{\"sync\":false,\"id\":\"ob_01\",\"value\":[]},\"meshcat-controls\":{\"sync\":true,\"id\":\"ob_03\",\"value\":[]},\"meshcat-request\":{\"sync\":true,\"id\":\"ob_02\",\"value\":\"\"}}},\"children\":[{\"props\":{\"className\":\"meshcat-viewer\",\"style\":{\"left\":0,\"right\":0,\"overflow\":\"hidden\",\"position\":\"absolute\",\"height\":\"100vh\",\"margin\":0,\"width\":\"100vw\"}},\"nodeType\":\"DOM\",\"type\":\"node\",\"instanceArgs\":{\"namespace\":\"html\",\"tag\":\"div\"},\"children\":[]}]},\n            window,\n        );\n    } else {\n        document\n            .querySelector('[data-webio-mountpoint=\"14299406796703651670\"]')\n            .innerHTML = (\n                '<strong>WebIO not detected. Please read ' +\n                '<a href=\"https://juliagizmos.github.io/WebIO.jl/latest/troubleshooting/not-detected/\">the troubleshooting guide</a> ' +\n                'for more information on how to resolve this issue.' +\n                '</strong>'\n            );\n    }\n    </script>\n</div>\n"
           },
           "nodeType": "IFrame",
           "props": {},
           "type": "node"
          }
         ],
         "instanceArgs": {
          "namespace": "html",
          "tag": "div"
         },
         "nodeType": "DOM",
         "props": {
          "style": {
           "display": "flex",
           "flexDirection": "column",
           "height": "100%",
           "margin": "inherit",
           "minHeight": "400px",
           "width": "100%"
          }
         },
         "type": "node"
        }
       ],
       "instanceArgs": {
        "handlers": {},
        "id": "9100067475175232328",
        "imports": {
         "data": [],
         "type": "async_block"
        },
        "mount_callbacks": [
         "function () {\n    var handler = ((function (){this.dom.style.height=\"100%\"; window.foo=this; return this.dom.children[0].children[0].style.flexGrow=\"1\"}));\n    (WebIO.importBlock({\"data\":[],\"type\":\"async_block\"})).then((imports) => handler.apply(this, imports));\n}\n"
        ],
        "observables": {},
        "systemjs_options": null
       },
       "nodeType": "Scope",
       "props": {},
       "type": "node"
      },
      "text/html": [
       "<div\n",
       "    class=\"webio-mountpoint\"\n",
       "    data-webio-mountpoint=\"15646287900564808055\"\n",
       ">\n",
       "    <script>\n",
       "    if (window.require && require.defined && require.defined(\"nbextensions/webio-jupyter-notebook\")) {\n",
       "        console.log(\"Jupyter WebIO extension detected, not mounting.\");\n",
       "    } else if (window.WebIO) {\n",
       "        WebIO.mount(\n",
       "            document.querySelector('[data-webio-mountpoint=\"15646287900564808055\"]'),\n",
       "            {\"props\":{},\"nodeType\":\"Scope\",\"type\":\"node\",\"instanceArgs\":{\"imports\":{\"data\":[],\"type\":\"async_block\"},\"id\":\"9100067475175232328\",\"handlers\":{},\"systemjs_options\":null,\"mount_callbacks\":[\"function () {\\n    var handler = ((function (){this.dom.style.height=\\\"100%\\\"; window.foo=this; return this.dom.children[0].children[0].style.flexGrow=\\\"1\\\"}));\\n    (WebIO.importBlock({\\\"data\\\":[],\\\"type\\\":\\\"async_block\\\"})).then((imports) => handler.apply(this, imports));\\n}\\n\"],\"observables\":{}},\"children\":[{\"props\":{\"style\":{\"flexDirection\":\"column\",\"minHeight\":\"400px\",\"height\":\"100%\",\"margin\":\"inherit\",\"display\":\"flex\",\"width\":\"100%\"}},\"nodeType\":\"DOM\",\"type\":\"node\",\"instanceArgs\":{\"namespace\":\"html\",\"tag\":\"div\"},\"children\":[{\"props\":{},\"nodeType\":\"IFrame\",\"type\":\"node\",\"instanceArgs\":{\"innerHTML\":\"<div\\n    class=\\\"webio-mountpoint\\\"\\n    data-webio-mountpoint=\\\"14299406796703651670\\\"\\n>\\n    <script>\\n    if (window.require && require.defined && require.defined(\\\"nbextensions\\/webio-jupyter-notebook\\\")) {\\n        console.log(\\\"Jupyter WebIO extension detected, not mounting.\\\");\\n    } else if (window.WebIO) {\\n        WebIO.mount(\\n            document.querySelector('[data-webio-mountpoint=\\\"14299406796703651670\\\"]'),\\n            {\\\"props\\\":{},\\\"nodeType\\\":\\\"Scope\\\",\\\"type\\\":\\\"node\\\",\\\"instanceArgs\\\":{\\\"imports\\\":{\\\"data\\\":[{\\\"name\\\":null,\\\"type\\\":\\\"js\\\",\\\"url\\\":\\\"\\\\\\/assetserver\\\\\\/cf544a313b8b4758c5b46eda729d77835c3c134e-main.min.js\\\"}],\\\"type\\\":\\\"async_block\\\"},\\\"id\\\":\\\"15111801971699624513\\\",\\\"handlers\\\":{\\\"meshcat-command\\\":[\\\"(function (val){return this.viewer.handle_command_message({\\\\\\\"data\\\\\\\":val})})\\\"]},\\\"systemjs_options\\\":null,\\\"mount_callbacks\\\":[\\\"function () {\\\\n    var handler = ((function (mc){var element=this.dom.children[0]; this.viewer=new mc.Viewer(element); WebIO.setval({\\\\\\\"name\\\\\\\":\\\\\\\"meshcat-request\\\\\\\",\\\\\\\"scope\\\\\\\":\\\\\\\"15111801971699624513\\\\\\\",\\\\\\\"id\\\\\\\":\\\\\\\"ob_02\\\\\\\",\\\\\\\"type\\\\\\\":\\\\\\\"observable\\\\\\\"},String(Date.now())); window.document.body.style.margin=\\\\\\\"0\\\\\\\"; return window.meshcat_viewer=this.viewer}));\\\\n    (WebIO.importBlock({\\\\\\\"data\\\\\\\":[{\\\\\\\"name\\\\\\\":null,\\\\\\\"type\\\\\\\":\\\\\\\"js\\\\\\\",\\\\\\\"url\\\\\\\":\\\\\\\"\\\\\\/assetserver\\\\\\/cf544a313b8b4758c5b46eda729d77835c3c134e-main.min.js\\\\\\\"}],\\\\\\\"type\\\\\\\":\\\\\\\"async_block\\\\\\\"})).then((imports) => handler.apply(this, imports));\\\\n}\\\\n\\\"],\\\"observables\\\":{\\\"meshcat-command\\\":{\\\"sync\\\":false,\\\"id\\\":\\\"ob_01\\\",\\\"value\\\":[]},\\\"meshcat-controls\\\":{\\\"sync\\\":true,\\\"id\\\":\\\"ob_03\\\",\\\"value\\\":[]},\\\"meshcat-request\\\":{\\\"sync\\\":true,\\\"id\\\":\\\"ob_02\\\",\\\"value\\\":\\\"\\\"}}},\\\"children\\\":[{\\\"props\\\":{\\\"className\\\":\\\"meshcat-viewer\\\",\\\"style\\\":{\\\"left\\\":0,\\\"right\\\":0,\\\"overflow\\\":\\\"hidden\\\",\\\"position\\\":\\\"absolute\\\",\\\"height\\\":\\\"100vh\\\",\\\"margin\\\":0,\\\"width\\\":\\\"100vw\\\"}},\\\"nodeType\\\":\\\"DOM\\\",\\\"type\\\":\\\"node\\\",\\\"instanceArgs\\\":{\\\"namespace\\\":\\\"html\\\",\\\"tag\\\":\\\"div\\\"},\\\"children\\\":[]}]},\\n            window,\\n        );\\n    } else {\\n        document\\n            .querySelector('[data-webio-mountpoint=\\\"14299406796703651670\\\"]')\\n            .innerHTML = (\\n                '<strong>WebIO not detected. Please read ' +\\n                '<a href=\\\"https:\\/\\/juliagizmos.github.io\\/WebIO.jl\\/latest\\/troubleshooting\\/not-detected\\/\\\">the troubleshooting guide<\\/a> ' +\\n                'for more information on how to resolve this issue.' +\\n                '<\\/strong>'\\n            );\\n    }\\n    <\\/script>\\n<\\/div>\\n\",\"bundleURL\":\"\\/assetserver\\/3b007542faf362b67669625b677317a876d878bb-generic-http.bundle.js\"},\"children\":[]}]}]},\n",
       "            window,\n",
       "        );\n",
       "    } else {\n",
       "        document\n",
       "            .querySelector('[data-webio-mountpoint=\"15646287900564808055\"]')\n",
       "            .innerHTML = (\n",
       "                '<strong>WebIO not detected. Please read ' +\n",
       "                '<a href=\"https://juliagizmos.github.io/WebIO.jl/latest/troubleshooting/not-detected/\">the troubleshooting guide</a> ' +\n",
       "                'for more information on how to resolve this issue.' +\n",
       "                '</strong>'\n",
       "            );\n",
       "    }\n",
       "    </script>\n",
       "</div>\n"
      ],
      "text/plain": [
       "WebIO.Scope(WebIO.Node{WebIO.DOM}(WebIO.DOM(:html, :div), Any[WebIO.Node{WebIO.IFrame}(WebIO.IFrame(\"<div\\n    class=\\\"webio-mountpoint\\\"\\n    data-webio-mountpoint=\\\"14299406796703651670\\\"\\n>\\n    <script>\\n    if (window.require && require.defined && require.defined(\\\"nbextensions/webio-jupyter-notebook\\\")) {\\n        console.log(\\\"Jupyter WebIO extension detected, not mounting.\\\");\\n    } else if (window.WebIO) {\\n        WebIO.mount(\\n            document.querySelector('[data-webio-mountpoint=\\\"14299406796703651670\\\"]'),\\n            {\\\"props\\\":{},\\\"nodeType\\\":\\\"Scope\\\",\\\"type\\\":\\\"node\\\",\\\"instanceArgs\\\":{\\\"imports\\\":{\\\"data\\\":[{\\\"name\\\":null,\\\"type\\\":\\\"js\\\",\\\"url\\\":\\\"\\\\/assetserver\\\\/cf544a313b8b4758c5b46eda729d77835c3c134e-main.min.js\\\"}],\\\"type\\\":\\\"async_block\\\"},\\\"id\\\":\\\"15111801971699624513\\\",\\\"handlers\\\":{\\\"meshcat-command\\\":[\\\"(function (val){return this.viewer.handle_command_message({\\\\\\\"data\\\\\\\":val})})\\\"]},\\\"systemjs_options\\\":null,\\\"mount_callbacks\\\":[\\\"function () {\\\\n    var handler = ((function (mc){var element=this.dom.children[0]; this.viewer=new mc.Viewer(element); WebIO.setval({\\\\\\\"name\\\\\\\":\\\\\\\"meshcat-request\\\\\\\",\\\\\\\"scope\\\\\\\":\\\\\\\"15111801971699624513\\\\\\\",\\\\\\\"id\\\\\\\":\\\\\\\"ob_02\\\\\\\",\\\\\\\"type\\\\\\\":\\\\\\\"observable\\\\\\\"},String(Date.now())); window.document.body.style.margin=\\\\\\\"0\\\\\\\"; return window.meshcat_viewer=this.viewer}));\\\\n    (WebIO.importBlock({\\\\\\\"data\\\\\\\":[{\\\\\\\"name\\\\\\\":null,\\\\\\\"type\\\\\\\":\\\\\\\"js\\\\\\\",\\\\\\\"url\\\\\\\":\\\\\\\"\\\\/assetserver\\\\/cf544a313b8b4758c5b46eda729d77835c3c134e-main.min.js\\\\\\\"}],\\\\\\\"type\\\\\\\":\\\\\\\"async_block\\\\\\\"})).then((imports) => handler.apply(this, imports));\\\\n}\\\\n\\\"],\\\"observables\\\":{\\\"meshcat-command\\\":{\\\"sync\\\":false,\\\"id\\\":\\\"ob_01\\\",\\\"value\\\":[]},\\\"meshcat-controls\\\":{\\\"sync\\\":true,\\\"id\\\":\\\"ob_03\\\",\\\"value\\\":[]},\\\"meshcat-request\\\":{\\\"sync\\\":true,\\\"id\\\":\\\"ob_02\\\",\\\"value\\\":\\\"\\\"}}},\\\"children\\\":[{\\\"props\\\":{\\\"className\\\":\\\"meshcat-viewer\\\",\\\"style\\\":{\\\"left\\\":0,\\\"right\\\":0,\\\"overflow\\\":\\\"hidden\\\",\\\"position\\\":\\\"absolute\\\",\\\"height\\\":\\\"100vh\\\",\\\"margin\\\":0,\\\"width\\\":\\\"100vw\\\"}},\\\"nodeType\\\":\\\"DOM\\\",\\\"type\\\":\\\"node\\\",\\\"instanceArgs\\\":{\\\"namespace\\\":\\\"html\\\",\\\"tag\\\":\\\"div\\\"},\\\"children\\\":[]}]},\\n            window,\\n        );\\n    } else {\\n        document\\n            .querySelector('[data-webio-mountpoint=\\\"14299406796703651670\\\"]')\\n            .innerHTML = (\\n                '<strong>WebIO not detected. Please read ' +\\n                '<a href=\\\"https://juliagizmos.github.io/WebIO.jl/latest/troubleshooting/not-detected/\\\">the troubleshooting guide</a> ' +\\n                'for more information on how to resolve this issue.' +\\n                '</strong>'\\n            );\\n    }\\n    </script>\\n</div>\\n\", \"/assetserver/3b007542faf362b67669625b677317a876d878bb-generic-http.bundle.js\"), Any[], Dict{Symbol,Any}())], Dict{Symbol,Any}(:style => Dict(:flexDirection => \"column\",:minHeight => \"400px\",:height => \"100%\",:margin => \"inherit\",:display => \"flex\",:width => \"100%\"))), Dict{String,Tuple{Observables.AbstractObservable,Union{Nothing, Bool}}}(), Set(String[]), nothing, WebIO.Asset[], Dict{Any,Any}(), WebIO.ConnectionPool(Channel{Any}(sz_max:32,sz_curr:0), Set(WebIO.AbstractConnection[]), Base.GenericCondition{Base.AlwaysLockedST}(Base.InvasiveLinkedList{Task}(Task (runnable) @0x00007fefcd85cc40, Task (runnable) @0x00007fefcd85cc40), Base.AlwaysLockedST(1))), WebIO.JSString[WebIO.JSString(\"function () {\\n    var handler = ((function (){this.dom.style.height=\\\"100%\\\"; window.foo=this; return this.dom.children[0].children[0].style.flexGrow=\\\"1\\\"}));\\n    (WebIO.importBlock({\\\"data\\\":[],\\\"type\\\":\\\"async_block\\\"})).then((imports) => handler.apply(this, imports));\\n}\\n\")])"
      ]
     },
     "execution_count": 3,
     "metadata": {
      "application/vnd.webio.node+json": {
       "kernelId": "def3d379-5b16-41b4-8eab-3cf5982146b2"
      }
     },
     "output_type": "execute_result"
    }
   ],
   "source": [
    "# Visual confirmation with point cloud field and moving sphere\n",
    "vis = Visualizer()\n",
    "IJuliaCell(vis)"
   ]
  },
  {
   "cell_type": "code",
   "execution_count": 4,
   "metadata": {},
   "outputs": [],
   "source": [
    "# Set seed\n",
    "Random.seed!(123)\n",
    "\n",
    "# Load mesh\n",
    "# mesh = load(\"../test/meshes/r_foot_chull.obj\")\n",
    "# mesh = load(\"../test/meshes/base_link.obj\")\n",
    "# mesh = load(\"/home/william/bunny/bunny.obj\")\n",
    "mesh = load(\"../test/meshes/sphere.obj\")\n",
    "mesh = HomogenousMesh(mesh)\n",
    "\n",
    "# Plot mesh\n",
    "setobject!(vis[\"mesh\"], mesh, MeshPhongMaterial(color=RGBA{Float32}(0.9, 0.9, 0.9, 0.4)))\n",
    "\n",
    "# Plot mesh points \n",
    "for i = 1:length(mesh.vertices)\n",
    "    setobject!(vis[string(\"mesh/vertex/\", string(i))], \n",
    "        HyperSphere(Point(mesh.vertices[i][1], mesh.vertices[i][2], mesh.vertices[i][3]), Float32(0.005)),\n",
    "        MeshPhongMaterial(color=RGBA{Float32}(0.0, 0.0, 0.0, 1.0))) \n",
    "end"
   ]
  },
  {
   "cell_type": "code",
   "execution_count": 5,
   "metadata": {},
   "outputs": [],
   "source": [
    "# Get point cloud environment \n",
    "verts = []\n",
    "n_pts = 0\n",
    "n_tot = 1e3\n",
    "while(n_pts < n_tot)\n",
    "#     x = rand(Uniform(-0.1,0.15),1,1)\n",
    "#     y = rand(Uniform(-0.1,0.1),1,1)\n",
    "#     z = rand(Uniform(-0.1,0.05),1,1)\n",
    "    \n",
    "#     x = rand(Uniform(-0.10,0.10),1,1)\n",
    "#     y = rand(Uniform(-0.10,0.10),1,1)\n",
    "#     z = rand(Uniform(-0.10,0.10),1,1)\n",
    "    \n",
    "    # Sphere parameterization with radius\n",
    "    r = rand(Uniform(0.23, 0.24),1,1)\n",
    "    phi = rand(Uniform(0, 2*pi),1,1)\n",
    "    theta = rand(Uniform(0, pi),1,1)\n",
    "    x = r*sin(theta)*cos(phi)\n",
    "    y = r*sin(theta)*sin(phi)\n",
    "    z = r*cos(theta)\n",
    "    \n",
    "    push!(verts, SVector(x[1],y[1],z[1]))\n",
    "#     setobject!(vis[string(\"pc/\", n_pts)], HyperSphere(Point(x[1],y[1],z[1]), 0.005))  # display points\n",
    "    n_pts += 1\n",
    "end"
   ]
  },
  {
   "cell_type": "code",
   "execution_count": 6,
   "metadata": {
    "scrolled": true
   },
   "outputs": [
    {
     "name": "stdout",
     "output_type": "stream",
     "text": [
      "collision_cnt = 632\n",
      "T = 270\n"
     ]
    }
   ],
   "source": [
    "# Configuration 1 \n",
    "T = length(verts)\n",
    "height = 0\n",
    "gjk_results = []\n",
    "collision_cnt = 0\n",
    "for i = 1:T\n",
    "    result = gjk(mesh, verts[i], IdentityTransformation(), IdentityTransformation())\n",
    "    collision_cnt += result.in_collision\n",
    "    push!(gjk_results, result)\n",
    "end\n",
    "\n",
    "@show collision_cnt\n",
    "min_pts = 3\n",
    "normal_results = list_normals(gjk_results, min_pts)\n",
    "T = length(normal_results)\n",
    "n_pts = 10\n",
    "@show T\n",
    "vis_arrows = []\n",
    "color_vec = []\n",
    "scale = 1/10\n",
    "\n",
    "for i = 1:n_pts\n",
    "    # mean point, contact directions, num_points, list of neighbor points\n",
    "    mean, contact_directions, num_points, neighbor_points = \n",
    "        normal_results[i][1], normal_results[i][2], normal_results[i][3], normal_results[i][4]   \n",
    "    \n",
    "    # Generate colors\n",
    "    if length(color_vec) == 0\n",
    "        color_pt = rand(3)\n",
    "        push!(color_vec, color_pt)\n",
    "    else\n",
    "        flag = true\n",
    "        while(flag)\n",
    "            color_pt = rand(3)\n",
    "            for i = 1:length(color_vec)\n",
    "                if LinearAlgebra.norm(color_vec[i] - color_pt) < 0.05\n",
    "                    color_pt = rand(3)\n",
    "                    flag = true\n",
    "                    break\n",
    "                elseif i == length(color_vec)\n",
    "                    push!(color_vec, color_pt)\n",
    "                    flag = false\n",
    "                    break\n",
    "                end\n",
    "            end\n",
    "        end\n",
    "    end\n",
    "    \n",
    "    # Display mean of points used in contact determination\n",
    "#     setobject!(vis[string(\"pc/\", i)], HyperSphere(Point(mean), 0.005))\n",
    "    \n",
    "    # Display contact normal\n",
    "    arrow = ArrowVisualizer(vis[string(\"normal/\", 3*i)])\n",
    "    setobject!(arrow, \n",
    "        MeshLambertMaterial(color=RGBA{Float32}(color_pt[1], color_pt[2], color_pt[3], 0.9)))\n",
    "    settransform!(arrow, Point(neighbor_points[1]), Vec(scale*contact_directions[1]))\n",
    "    \n",
    "#     # Display contact tangent 1\n",
    "#     arrow = ArrowVisualizer(vis[string(\"normal/\", 3*i+1)])\n",
    "#     setobject!(arrow, MeshLambertMaterial(color=RGBA{Float32}(0, 1, 0, 0.5)))\n",
    "#     settransform!(arrow, Point(neighbor_points[1]), Vec(contact_directions[2]))\n",
    "    \n",
    "#     # Display contact tangent 2\n",
    "#     arrow = ArrowVisualizer(vis[string(\"normal/\", 3*i+2)])\n",
    "#     setobject!(arrow, MeshLambertMaterial(color=RGBA{Float32}(0, 0, 1, 0.5)))\n",
    "#     settransform!(arrow, Point(neighbor_points[1]), Vec(contact_directions[3]))\n",
    "    \n",
    "    # Plot supporting neighbor points on surface \n",
    "    for k = 1:min_pts\n",
    "        setobject!(vis[string(\"neighbor/\", string(min_pts*i+k))], HyperSphere(Point(neighbor_points[k]), 0.005), \n",
    "            MeshLambertMaterial(color=RGBA{Float32}(color_pt[1], color_pt[2], color_pt[3], 0.9)))\n",
    "    end    \n",
    "end\n"
   ]
  },
  {
   "cell_type": "code",
   "execution_count": 7,
   "metadata": {},
   "outputs": [
    {
     "name": "stdout",
     "output_type": "stream",
     "text": [
      "(gjk_results[5]).simplex = SArray{Tuple{3},Float64,1,3}[[0.08475771901940263, 0.008909978086004931, 0.07801875837778888], [0.010186713019360666, 0.06308897596026489, -0.022839244523288393], [-0.04667628200913512, 0.008909978086004931, -0.13464424346873322], [-0.02157327922249877, -0.06834302086209229, -0.0032102429058567528]]\n",
      "(gjk_results[5]).weights = [0.10426842250311738, 0.4478190968952961, 0.0, 0.44791248060158645]\n",
      "(gjk_results[5]).in_collision = false\n",
      "(gjk_results[5]).closest_point_in_body = EnhancedGJK.Difference{SArray{Tuple{3},Float64,1,3},SArray{Tuple{3},Float64,1,3}}([-0.1848732981110948, 0.05063080680646916, 0.12667237855542962], [-0.18860971538161192, 0.05206102121447495, 0.1302032434132115])\n",
      "(gjk_results[5]).iterations = 7\n",
      "linear_combination((gjk_results[5]).weights, (gjk_results[5]).simplex) = [0.0037364172705171405, -0.0014302144080057845, -0.003530864857781869]\n"
     ]
    },
    {
     "data": {
      "text/plain": [
       "3-element SArray{Tuple{3},Float64,1,3} with indices SOneTo(3):\n",
       "  0.0037364172705171405\n",
       " -0.0014302144080057845\n",
       " -0.003530864857781869 "
      ]
     },
     "execution_count": 7,
     "metadata": {},
     "output_type": "execute_result"
    }
   ],
   "source": [
    "# Debug\n",
    "@show gjk_results[5].simplex\n",
    "@show gjk_results[5].weights\n",
    "@show gjk_results[5].in_collision\n",
    "@show gjk_results[5].closest_point_in_body\n",
    "@show gjk_results[5].iterations\n",
    "@show linear_combination(gjk_results[5].weights, gjk_results[5].simplex)"
   ]
  },
  {
   "cell_type": "code",
   "execution_count": null,
   "metadata": {},
   "outputs": [],
   "source": []
  }
 ],
 "metadata": {
  "@webio": {
   "lastCommId": "d0a55dd3bdad45219bae448617bf22e1",
   "lastKernelId": "def3d379-5b16-41b4-8eab-3cf5982146b2"
  },
  "kernelspec": {
   "display_name": "Julia 1.3.0",
   "language": "julia",
   "name": "julia-1.3"
  },
  "language_info": {
   "file_extension": ".jl",
   "mimetype": "application/julia",
   "name": "julia",
   "version": "1.3.0"
  }
 },
 "nbformat": 4,
 "nbformat_minor": 2
}
