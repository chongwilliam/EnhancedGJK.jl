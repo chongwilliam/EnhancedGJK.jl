{
 "cells": [
  {
   "cell_type": "code",
   "execution_count": 1,
   "metadata": {},
   "outputs": [
    {
     "data": {
      "text/html": [
       "<script>\n",
       "// Immediately-invoked-function-expression to avoid global variables.\n",
       "(function() {\n",
       "    var warning_div = document.getElementById(\"webio-warning-5337301196885161545\");\n",
       "    var hide = function () {\n",
       "        var script = document.getElementById(\"webio-setup-1007685288827077909\");\n",
       "        var parent = script && script.parentElement;\n",
       "        var grandparent = parent && parent.parentElement;\n",
       "        if (grandparent) {\n",
       "            grandparent.style.display = \"none\";\n",
       "        }\n",
       "        warning_div.style.display = \"none\";\n",
       "    };\n",
       "    if (typeof Jupyter !== \"undefined\") {\n",
       "        console.log(\"WebIO detected Jupyter notebook environment.\");\n",
       "        // Jupyter notebook.\n",
       "        var extensions = (\n",
       "            Jupyter\n",
       "            && Jupyter.notebook.config.data\n",
       "            && Jupyter.notebook.config.data.load_extensions\n",
       "        );\n",
       "        if (extensions && extensions[\"webio-jupyter-notebook\"]) {\n",
       "            // Extension already loaded.\n",
       "            console.log(\"Jupyter WebIO nbextension detected; not loading ad-hoc.\");\n",
       "            hide();\n",
       "            return;\n",
       "        }\n",
       "    } else if (window.location.pathname.includes(\"/lab\")) {\n",
       "        // Guessing JupyterLa\n",
       "        console.log(\"Jupyter Lab detected; make sure the @webio/jupyter-lab-provider labextension is installed.\");\n",
       "        hide();\n",
       "        return;\n",
       "    }\n",
       "})();\n",
       "\n",
       "</script>\n",
       "<p\n",
       "    id=\"webio-warning-5337301196885161545\"\n",
       "    class=\"output_text output_stderr\"\n",
       "    style=\"padding: 1em; font-weight: bold;\"\n",
       ">\n",
       "    Unable to load WebIO. Please make sure WebIO works for your Jupyter client.\n",
       "    For troubleshooting, please see <a href=\"https://juliagizmos.github.io/WebIO.jl/latest/providers/ijulia/\">\n",
       "    the WebIO/IJulia documentation</a>.\n",
       "    <!-- TODO: link to installation docs. -->\n",
       "</p>\n"
      ],
      "text/plain": [
       "HTML{String}(\"<script>\\n// Immediately-invoked-function-expression to avoid global variables.\\n(function() {\\n    var warning_div = document.getElementById(\\\"webio-warning-5337301196885161545\\\");\\n    var hide = function () {\\n        var script = document.getElementById(\\\"webio-setup-1007685288827077909\\\");\\n        var parent = script && script.parentElement;\\n        var grandparent = parent && parent.parentElement;\\n        if (grandparent) {\\n            grandparent.style.display = \\\"none\\\";\\n        }\\n        warning_div.style.display = \\\"none\\\";\\n    };\\n    if (typeof Jupyter !== \\\"undefined\\\") {\\n        console.log(\\\"WebIO detected Jupyter notebook environment.\\\");\\n        // Jupyter notebook.\\n        var extensions = (\\n            Jupyter\\n            && Jupyter.notebook.config.data\\n            && Jupyter.notebook.config.data.load_extensions\\n        );\\n        if (extensions && extensions[\\\"webio-jupyter-notebook\\\"]) {\\n            // Extension already loaded.\\n            console.log(\\\"Jupyter WebIO nbextension detected; not loading ad-hoc.\\\");\\n            hide();\\n            return;\\n        }\\n    } else if (window.location.pathname.includes(\\\"/lab\\\")) {\\n        // Guessing JupyterLa\\n        console.log(\\\"Jupyter Lab detected; make sure the @webio/jupyter-lab-provider labextension is installed.\\\");\\n        hide();\\n        return;\\n    }\\n})();\\n\\n</script>\\n<p\\n    id=\\\"webio-warning-5337301196885161545\\\"\\n    class=\\\"output_text output_stderr\\\"\\n    style=\\\"padding: 1em; font-weight: bold;\\\"\\n>\\n    Unable to load WebIO. Please make sure WebIO works for your Jupyter client.\\n    For troubleshooting, please see <a href=\\\"https://juliagizmos.github.io/WebIO.jl/latest/providers/ijulia/\\\">\\n    the WebIO/IJulia documentation</a>.\\n    <!-- TODO: link to installation docs. -->\\n</p>\\n\")"
      ]
     },
     "metadata": {},
     "output_type": "display_data"
    }
   ],
   "source": [
    "using EnhancedGJK\n",
    "using CoordinateTransformations\n",
    "import GeometryTypes: HyperRectangle, HyperSphere, Vec, Point, HomogenousMesh\n",
    "using MeshCat, ForwardDiff, StaticArrays, Colors, MeshIO, FileIO"
   ]
  },
  {
   "cell_type": "code",
   "execution_count": 2,
   "metadata": {},
   "outputs": [
    {
     "data": {
      "application/vnd.webio.node+json": {
       "children": [
        {
         "children": [
          {
           "children": [],
           "instanceArgs": {
            "bundleURL": "/assetserver/3b007542faf362b67669625b677317a876d878bb-generic-http.bundle.js",
            "innerHTML": "<div\n    class=\"webio-mountpoint\"\n    data-webio-mountpoint=\"8372396767737865987\"\n>\n    <script>\n    if (window.require && require.defined && require.defined(\"nbextensions/webio-jupyter-notebook\")) {\n        console.log(\"Jupyter WebIO extension detected, not mounting.\");\n    } else if (window.WebIO) {\n        WebIO.mount(\n            document.querySelector('[data-webio-mountpoint=\"8372396767737865987\"]'),\n            {\"props\":{},\"nodeType\":\"Scope\",\"type\":\"node\",\"instanceArgs\":{\"imports\":{\"data\":[{\"name\":null,\"type\":\"js\",\"url\":\"\\/assetserver\\/cf544a313b8b4758c5b46eda729d77835c3c134e-main.min.js\"}],\"type\":\"async_block\"},\"id\":\"4575761878448028821\",\"handlers\":{\"meshcat-command\":[\"(function (val){return this.viewer.handle_command_message({\\\"data\\\":val})})\"]},\"systemjs_options\":null,\"mount_callbacks\":[\"function () {\\n    var handler = ((function (mc){var element=this.dom.children[0]; this.viewer=new mc.Viewer(element); WebIO.setval({\\\"name\\\":\\\"meshcat-request\\\",\\\"scope\\\":\\\"4575761878448028821\\\",\\\"id\\\":\\\"ob_02\\\",\\\"type\\\":\\\"observable\\\"},String(Date.now())); window.document.body.style.margin=\\\"0\\\"; return window.meshcat_viewer=this.viewer}));\\n    (WebIO.importBlock({\\\"data\\\":[{\\\"name\\\":null,\\\"type\\\":\\\"js\\\",\\\"url\\\":\\\"\\/assetserver\\/cf544a313b8b4758c5b46eda729d77835c3c134e-main.min.js\\\"}],\\\"type\\\":\\\"async_block\\\"})).then((imports) => handler.apply(this, imports));\\n}\\n\"],\"observables\":{\"meshcat-command\":{\"sync\":false,\"id\":\"ob_01\",\"value\":[]},\"meshcat-controls\":{\"sync\":true,\"id\":\"ob_03\",\"value\":[]},\"meshcat-request\":{\"sync\":true,\"id\":\"ob_02\",\"value\":\"\"}}},\"children\":[{\"props\":{\"className\":\"meshcat-viewer\",\"style\":{\"left\":0,\"right\":0,\"overflow\":\"hidden\",\"position\":\"absolute\",\"height\":\"100vh\",\"margin\":0,\"width\":\"100vw\"}},\"nodeType\":\"DOM\",\"type\":\"node\",\"instanceArgs\":{\"namespace\":\"html\",\"tag\":\"div\"},\"children\":[]}]},\n            window,\n        );\n    } else {\n        document\n            .querySelector('[data-webio-mountpoint=\"8372396767737865987\"]')\n            .innerHTML = (\n                '<strong>WebIO not detected. Please read ' +\n                '<a href=\"https://juliagizmos.github.io/WebIO.jl/latest/troubleshooting/not-detected/\">the troubleshooting guide</a> ' +\n                'for more information on how to resolve this issue.' +\n                '</strong>'\n            );\n    }\n    </script>\n</div>\n"
           },
           "nodeType": "IFrame",
           "props": {},
           "type": "node"
          }
         ],
         "instanceArgs": {
          "namespace": "html",
          "tag": "div"
         },
         "nodeType": "DOM",
         "props": {
          "style": {
           "display": "flex",
           "flexDirection": "column",
           "height": "100%",
           "margin": "inherit",
           "minHeight": "400px",
           "width": "100%"
          }
         },
         "type": "node"
        }
       ],
       "instanceArgs": {
        "handlers": {},
        "id": "11928682666429196968",
        "imports": {
         "data": [],
         "type": "async_block"
        },
        "mount_callbacks": [
         "function () {\n    var handler = ((function (){this.dom.style.height=\"100%\"; window.foo=this; return this.dom.children[0].children[0].style.flexGrow=\"1\"}));\n    (WebIO.importBlock({\"data\":[],\"type\":\"async_block\"})).then((imports) => handler.apply(this, imports));\n}\n"
        ],
        "observables": {},
        "systemjs_options": null
       },
       "nodeType": "Scope",
       "props": {},
       "type": "node"
      },
      "text/html": [
       "<div\n",
       "    class=\"webio-mountpoint\"\n",
       "    data-webio-mountpoint=\"1640124802061701505\"\n",
       ">\n",
       "    <script>\n",
       "    if (window.require && require.defined && require.defined(\"nbextensions/webio-jupyter-notebook\")) {\n",
       "        console.log(\"Jupyter WebIO extension detected, not mounting.\");\n",
       "    } else if (window.WebIO) {\n",
       "        WebIO.mount(\n",
       "            document.querySelector('[data-webio-mountpoint=\"1640124802061701505\"]'),\n",
       "            {\"props\":{},\"nodeType\":\"Scope\",\"type\":\"node\",\"instanceArgs\":{\"imports\":{\"data\":[],\"type\":\"async_block\"},\"id\":\"11928682666429196968\",\"handlers\":{},\"systemjs_options\":null,\"mount_callbacks\":[\"function () {\\n    var handler = ((function (){this.dom.style.height=\\\"100%\\\"; window.foo=this; return this.dom.children[0].children[0].style.flexGrow=\\\"1\\\"}));\\n    (WebIO.importBlock({\\\"data\\\":[],\\\"type\\\":\\\"async_block\\\"})).then((imports) => handler.apply(this, imports));\\n}\\n\"],\"observables\":{}},\"children\":[{\"props\":{\"style\":{\"flexDirection\":\"column\",\"minHeight\":\"400px\",\"height\":\"100%\",\"margin\":\"inherit\",\"display\":\"flex\",\"width\":\"100%\"}},\"nodeType\":\"DOM\",\"type\":\"node\",\"instanceArgs\":{\"namespace\":\"html\",\"tag\":\"div\"},\"children\":[{\"props\":{},\"nodeType\":\"IFrame\",\"type\":\"node\",\"instanceArgs\":{\"innerHTML\":\"<div\\n    class=\\\"webio-mountpoint\\\"\\n    data-webio-mountpoint=\\\"8372396767737865987\\\"\\n>\\n    <script>\\n    if (window.require && require.defined && require.defined(\\\"nbextensions\\/webio-jupyter-notebook\\\")) {\\n        console.log(\\\"Jupyter WebIO extension detected, not mounting.\\\");\\n    } else if (window.WebIO) {\\n        WebIO.mount(\\n            document.querySelector('[data-webio-mountpoint=\\\"8372396767737865987\\\"]'),\\n            {\\\"props\\\":{},\\\"nodeType\\\":\\\"Scope\\\",\\\"type\\\":\\\"node\\\",\\\"instanceArgs\\\":{\\\"imports\\\":{\\\"data\\\":[{\\\"name\\\":null,\\\"type\\\":\\\"js\\\",\\\"url\\\":\\\"\\\\\\/assetserver\\\\\\/cf544a313b8b4758c5b46eda729d77835c3c134e-main.min.js\\\"}],\\\"type\\\":\\\"async_block\\\"},\\\"id\\\":\\\"4575761878448028821\\\",\\\"handlers\\\":{\\\"meshcat-command\\\":[\\\"(function (val){return this.viewer.handle_command_message({\\\\\\\"data\\\\\\\":val})})\\\"]},\\\"systemjs_options\\\":null,\\\"mount_callbacks\\\":[\\\"function () {\\\\n    var handler = ((function (mc){var element=this.dom.children[0]; this.viewer=new mc.Viewer(element); WebIO.setval({\\\\\\\"name\\\\\\\":\\\\\\\"meshcat-request\\\\\\\",\\\\\\\"scope\\\\\\\":\\\\\\\"4575761878448028821\\\\\\\",\\\\\\\"id\\\\\\\":\\\\\\\"ob_02\\\\\\\",\\\\\\\"type\\\\\\\":\\\\\\\"observable\\\\\\\"},String(Date.now())); window.document.body.style.margin=\\\\\\\"0\\\\\\\"; return window.meshcat_viewer=this.viewer}));\\\\n    (WebIO.importBlock({\\\\\\\"data\\\\\\\":[{\\\\\\\"name\\\\\\\":null,\\\\\\\"type\\\\\\\":\\\\\\\"js\\\\\\\",\\\\\\\"url\\\\\\\":\\\\\\\"\\\\\\/assetserver\\\\\\/cf544a313b8b4758c5b46eda729d77835c3c134e-main.min.js\\\\\\\"}],\\\\\\\"type\\\\\\\":\\\\\\\"async_block\\\\\\\"})).then((imports) => handler.apply(this, imports));\\\\n}\\\\n\\\"],\\\"observables\\\":{\\\"meshcat-command\\\":{\\\"sync\\\":false,\\\"id\\\":\\\"ob_01\\\",\\\"value\\\":[]},\\\"meshcat-controls\\\":{\\\"sync\\\":true,\\\"id\\\":\\\"ob_03\\\",\\\"value\\\":[]},\\\"meshcat-request\\\":{\\\"sync\\\":true,\\\"id\\\":\\\"ob_02\\\",\\\"value\\\":\\\"\\\"}}},\\\"children\\\":[{\\\"props\\\":{\\\"className\\\":\\\"meshcat-viewer\\\",\\\"style\\\":{\\\"left\\\":0,\\\"right\\\":0,\\\"overflow\\\":\\\"hidden\\\",\\\"position\\\":\\\"absolute\\\",\\\"height\\\":\\\"100vh\\\",\\\"margin\\\":0,\\\"width\\\":\\\"100vw\\\"}},\\\"nodeType\\\":\\\"DOM\\\",\\\"type\\\":\\\"node\\\",\\\"instanceArgs\\\":{\\\"namespace\\\":\\\"html\\\",\\\"tag\\\":\\\"div\\\"},\\\"children\\\":[]}]},\\n            window,\\n        );\\n    } else {\\n        document\\n            .querySelector('[data-webio-mountpoint=\\\"8372396767737865987\\\"]')\\n            .innerHTML = (\\n                '<strong>WebIO not detected. Please read ' +\\n                '<a href=\\\"https:\\/\\/juliagizmos.github.io\\/WebIO.jl\\/latest\\/troubleshooting\\/not-detected\\/\\\">the troubleshooting guide<\\/a> ' +\\n                'for more information on how to resolve this issue.' +\\n                '<\\/strong>'\\n            );\\n    }\\n    <\\/script>\\n<\\/div>\\n\",\"bundleURL\":\"\\/assetserver\\/3b007542faf362b67669625b677317a876d878bb-generic-http.bundle.js\"},\"children\":[]}]}]},\n",
       "            window,\n",
       "        );\n",
       "    } else {\n",
       "        document\n",
       "            .querySelector('[data-webio-mountpoint=\"1640124802061701505\"]')\n",
       "            .innerHTML = (\n",
       "                '<strong>WebIO not detected. Please read ' +\n",
       "                '<a href=\"https://juliagizmos.github.io/WebIO.jl/latest/troubleshooting/not-detected/\">the troubleshooting guide</a> ' +\n",
       "                'for more information on how to resolve this issue.' +\n",
       "                '</strong>'\n",
       "            );\n",
       "    }\n",
       "    </script>\n",
       "</div>\n"
      ],
      "text/plain": [
       "WebIO.Scope(WebIO.Node{WebIO.DOM}(WebIO.DOM(:html, :div), Any[WebIO.Node{WebIO.IFrame}(WebIO.IFrame(\"<div\\n    class=\\\"webio-mountpoint\\\"\\n    data-webio-mountpoint=\\\"8372396767737865987\\\"\\n>\\n    <script>\\n    if (window.require && require.defined && require.defined(\\\"nbextensions/webio-jupyter-notebook\\\")) {\\n        console.log(\\\"Jupyter WebIO extension detected, not mounting.\\\");\\n    } else if (window.WebIO) {\\n        WebIO.mount(\\n            document.querySelector('[data-webio-mountpoint=\\\"8372396767737865987\\\"]'),\\n            {\\\"props\\\":{},\\\"nodeType\\\":\\\"Scope\\\",\\\"type\\\":\\\"node\\\",\\\"instanceArgs\\\":{\\\"imports\\\":{\\\"data\\\":[{\\\"name\\\":null,\\\"type\\\":\\\"js\\\",\\\"url\\\":\\\"\\\\/assetserver\\\\/cf544a313b8b4758c5b46eda729d77835c3c134e-main.min.js\\\"}],\\\"type\\\":\\\"async_block\\\"},\\\"id\\\":\\\"4575761878448028821\\\",\\\"handlers\\\":{\\\"meshcat-command\\\":[\\\"(function (val){return this.viewer.handle_command_message({\\\\\\\"data\\\\\\\":val})})\\\"]},\\\"systemjs_options\\\":null,\\\"mount_callbacks\\\":[\\\"function () {\\\\n    var handler = ((function (mc){var element=this.dom.children[0]; this.viewer=new mc.Viewer(element); WebIO.setval({\\\\\\\"name\\\\\\\":\\\\\\\"meshcat-request\\\\\\\",\\\\\\\"scope\\\\\\\":\\\\\\\"4575761878448028821\\\\\\\",\\\\\\\"id\\\\\\\":\\\\\\\"ob_02\\\\\\\",\\\\\\\"type\\\\\\\":\\\\\\\"observable\\\\\\\"},String(Date.now())); window.document.body.style.margin=\\\\\\\"0\\\\\\\"; return window.meshcat_viewer=this.viewer}));\\\\n    (WebIO.importBlock({\\\\\\\"data\\\\\\\":[{\\\\\\\"name\\\\\\\":null,\\\\\\\"type\\\\\\\":\\\\\\\"js\\\\\\\",\\\\\\\"url\\\\\\\":\\\\\\\"\\\\/assetserver\\\\/cf544a313b8b4758c5b46eda729d77835c3c134e-main.min.js\\\\\\\"}],\\\\\\\"type\\\\\\\":\\\\\\\"async_block\\\\\\\"})).then((imports) => handler.apply(this, imports));\\\\n}\\\\n\\\"],\\\"observables\\\":{\\\"meshcat-command\\\":{\\\"sync\\\":false,\\\"id\\\":\\\"ob_01\\\",\\\"value\\\":[]},\\\"meshcat-controls\\\":{\\\"sync\\\":true,\\\"id\\\":\\\"ob_03\\\",\\\"value\\\":[]},\\\"meshcat-request\\\":{\\\"sync\\\":true,\\\"id\\\":\\\"ob_02\\\",\\\"value\\\":\\\"\\\"}}},\\\"children\\\":[{\\\"props\\\":{\\\"className\\\":\\\"meshcat-viewer\\\",\\\"style\\\":{\\\"left\\\":0,\\\"right\\\":0,\\\"overflow\\\":\\\"hidden\\\",\\\"position\\\":\\\"absolute\\\",\\\"height\\\":\\\"100vh\\\",\\\"margin\\\":0,\\\"width\\\":\\\"100vw\\\"}},\\\"nodeType\\\":\\\"DOM\\\",\\\"type\\\":\\\"node\\\",\\\"instanceArgs\\\":{\\\"namespace\\\":\\\"html\\\",\\\"tag\\\":\\\"div\\\"},\\\"children\\\":[]}]},\\n            window,\\n        );\\n    } else {\\n        document\\n            .querySelector('[data-webio-mountpoint=\\\"8372396767737865987\\\"]')\\n            .innerHTML = (\\n                '<strong>WebIO not detected. Please read ' +\\n                '<a href=\\\"https://juliagizmos.github.io/WebIO.jl/latest/troubleshooting/not-detected/\\\">the troubleshooting guide</a> ' +\\n                'for more information on how to resolve this issue.' +\\n                '</strong>'\\n            );\\n    }\\n    </script>\\n</div>\\n\", \"/assetserver/3b007542faf362b67669625b677317a876d878bb-generic-http.bundle.js\"), Any[], Dict{Symbol,Any}())], Dict{Symbol,Any}(:style => Dict(:flexDirection => \"column\",:minHeight => \"400px\",:height => \"100%\",:margin => \"inherit\",:display => \"flex\",:width => \"100%\"))), Dict{String,Tuple{Observables.AbstractObservable,Union{Nothing, Bool}}}(), Set(String[]), nothing, WebIO.Asset[], Dict{Any,Any}(), WebIO.ConnectionPool(Channel{Any}(sz_max:32,sz_curr:0), Set(WebIO.AbstractConnection[]), Base.GenericCondition{Base.AlwaysLockedST}(Base.InvasiveLinkedList{Task}(Task (runnable) @0x00007efdf8d0e230, Task (runnable) @0x00007efdf8d0e230), Base.AlwaysLockedST(1))), WebIO.JSString[WebIO.JSString(\"function () {\\n    var handler = ((function (){this.dom.style.height=\\\"100%\\\"; window.foo=this; return this.dom.children[0].children[0].style.flexGrow=\\\"1\\\"}));\\n    (WebIO.importBlock({\\\"data\\\":[],\\\"type\\\":\\\"async_block\\\"})).then((imports) => handler.apply(this, imports));\\n}\\n\")])"
      ]
     },
     "execution_count": 2,
     "metadata": {
      "application/vnd.webio.node+json": {
       "kernelId": "4afa012a-3d64-4c0c-81b5-620ff4ec7712"
      }
     },
     "output_type": "execute_result"
    }
   ],
   "source": [
    "# Visual confirmation with point cloud field and moving sphere\n",
    "vis = Visualizer()\n",
    "IJuliaCell(vis)"
   ]
  },
  {
   "cell_type": "code",
   "execution_count": 3,
   "metadata": {},
   "outputs": [
    {
     "name": "stdout",
     "output_type": "stream",
     "text": [
      "Point:1\n",
      "Point:2\n",
      "Point:3\n",
      "Point:4\n",
      "Point:5\n",
      "Point:6\n",
      "Point:7\n",
      "Point:8\n",
      "Point:9\n",
      "Point:10\n",
      "Point:11\n",
      "Point:12\n",
      "Point:13\n",
      "Point:14\n",
      "Point:15\n",
      "Point:16\n",
      "Point:17\n",
      "Point:18\n",
      "Point:19\n",
      "Point:20\n",
      "Point:21\n",
      "Point:22\n",
      "Point:23\n",
      "Point:24\n",
      "Point:25\n"
     ]
    }
   ],
   "source": [
    "# Load mesh\n",
    "# c1 = HyperRectangle(Vec(-0.5, -0.5, 0.5), Vec(1., 1, 0.1))\n",
    "# c1 = HyperRectangle(Vec(-0.5, -0.5, 0.5), Vec(1., 1, 0.1))\n",
    "# c1 = HyperSphere(Point(0.,0,0), 0.05)\n",
    "c1 = load(\"../test/meshes/r_foot_chull.obj\")\n",
    "\n",
    "# Get point array\n",
    "len = 5\n",
    "c2 = @MMatrix randn(len*len,3)  # each row holds a single point \n",
    "cnt = 1\n",
    "# x_off, y_off = 3, 3\n",
    "x_off, y_off = 0.15, 0.15\n",
    "z_off = 0.43\n",
    "for i = 1:len\n",
    "    for j = 1:len\n",
    "        c2[cnt,:] = [i/20-x_off,j/20-y_off,z_off]\n",
    "        cnt += 1\n",
    "    end\n",
    "end        \n",
    "\n",
    "# Setup z height and composite transformation\n",
    "z_height = 0.5\n",
    "# hull_tf = compose(Translation(SVector(0,0,z_height)), LinearMap(RotX(pi)))\n",
    "hull_tf = Translation(SVector(0,0,z_height))\n",
    "\n",
    "result1 = []  # OG\n",
    "result2 = []  # SV \n",
    "body_pts1 = []  # OG\n",
    "body_pts2 = []  # SV\n",
    "\n",
    "for i = 1:len*len\n",
    "#     print(\"Point:\", i, \"\\n\")\n",
    "#     print(SVector(c2[i,:]), \"\\n\")\n",
    "    \n",
    "#     res1 = gjk(c1, SVector(c2[i,:]), Translation(SVector(0,0,0.5)), IdentityTransformation());\n",
    "#     res2 = gjk_original(c1, SVector(c2[i,:]), Translation(SVector(0,0,0.5)), IdentityTransformation());\n",
    "    \n",
    "    res1 = gjk(c1, SVector(c2[i,:]), hull_tf, IdentityTransformation());\n",
    "    res2 = gjk_original(c1, SVector(c2[i,:]), hull_tf, IdentityTransformation());\n",
    "    \n",
    "    push!(result1, res1)\n",
    "    push!(body_pts1, res1.poseA(res1.closest_point_in_body.a))\n",
    "    \n",
    "    push!(result2, res2)\n",
    "    push!(body_pts2, res2.closest_point_in_body.a + SVector(0,0,z_height))\n",
    "end\n"
   ]
  },
  {
   "cell_type": "code",
   "execution_count": 4,
   "metadata": {},
   "outputs": [
    {
     "ename": "BoundsError",
     "evalue": "BoundsError",
     "output_type": "error",
     "traceback": [
      "BoundsError",
      "",
      "Stacktrace:",
      " [1] getindex(::Int64, ::Int64) at ./number.jl:78",
      " [2] top-level scope at In[4]:6"
     ]
    }
   ],
   "source": [
    "# Calculate tangent and normal vectors (needs finer mesh, but should be fine for quick demonstration)\n",
    "contact_point = result1[1]\n",
    "env_points = result1[2:end]\n",
    "\n",
    "contact_result = normal(contact_point, env_points, 3, 1e-3, 1)  # 3 minimum points for PCA\n",
    "mean, contact_directions, num_points, neighbor_points = \n",
    "    contact_result[1], contact_result[2], contact_result[3], contact_result[4]\n",
    "print(\"Contact Directions: \", contact_directions)"
   ]
  },
  {
   "cell_type": "code",
   "execution_count": 6,
   "metadata": {},
   "outputs": [
    {
     "data": {
      "text/plain": [
       "MeshCat ArrowVisualizer with path /meshcat/normal/3/arrow"
      ]
     },
     "execution_count": 6,
     "metadata": {},
     "output_type": "execute_result"
    }
   ],
   "source": [
    "# Plot points and normal direction\n",
    "setobject!(vis[\"points/1\"], HyperSphere(Point(points[1]), 0.005))\n",
    "setobject!(vis[\"points/2\"], HyperSphere(Point(points[2]), 0.005))\n",
    "setobject!(vis[\"points/3\"], HyperSphere(Point(points[3]), 0.005))\n",
    "\n",
    "normal1 = ArrowVisualizer(vis[string(\"normal/1\")])\n",
    "normal2 = ArrowVisualizer(vis[string(\"normal/2\")])\n",
    "normal3 = ArrowVisualizer(vis[string(\"normal/3\")])\n",
    "\n",
    "setobject!(normal1, MeshLambertMaterial(color=RGBA{Float32}(1, 0, 0, 0.5)))\n",
    "setobject!(normal2, MeshLambertMaterial(color=RGBA{Float32}(0, 1, 0, 0.5)))\n",
    "setobject!(normal3, MeshLambertMaterial(color=RGBA{Float32}(0, 0, 1, 0.5)))\n",
    "\n",
    "settransform!(normal1, Point(StaticArrays.mean(points)), Vec(contact_directions[:,1]))\n",
    "settransform!(normal2, Point(StaticArrays.mean(points)), Vec(contact_directions[:,2]))\n",
    "settransform!(normal3, Point(StaticArrays.mean(points)), Vec(contact_directions[:,3]))"
   ]
  },
  {
   "cell_type": "code",
   "execution_count": 7,
   "metadata": {},
   "outputs": [],
   "source": [
    "# Plot point and box \n",
    "setobject!(vis[\"box\"], c1)\n",
    "settransform!(vis[\"box\"], Translation(0, 0, z_height))\n",
    "# settransform!(vis[\"box\"], compose(Translation(0, 0, z_height), LinearMap(RotX(pi))))\n",
    "\n",
    "for i = 1:len*len\n",
    "    setobject!(vis[string(\"sphere/\",string(i))], HyperSphere(Point(c2[i,1], c2[i,2], c2[i,3]), 0.01))\n",
    "end  \n",
    "\n",
    "dist1 = []  # container for OG arrows\n",
    "dist2 = []  # container for SV arrows\n",
    "\n",
    "# Draw vector from point to point in body\n",
    "for i = 1:len*len\n",
    "    # SV (red arrow color)\n",
    "    push!(dist1, ArrowVisualizer(vis[string(\"dist1/\",string(i))]))\n",
    "    setobject!(dist1[i], MeshLambertMaterial(color=RGBA{Float32}(1, 0, 0, 0.5)))\n",
    "    settransform!(dist1[i], Point(c2[i,1], c2[i,2], c2[i,3]), Point(body_pts1[i][1], \n",
    "            body_pts1[i][2], body_pts1[i][3]))\n",
    "    \n",
    "    # OG (green arrow color)\n",
    "    push!(dist2, ArrowVisualizer(vis[string(\"dist2/\",string(i))]))\n",
    "    setobject!(dist2[i], MeshLambertMaterial(color=RGBA{Float32}(0, 1, 0, 0.5)))\n",
    "    settransform!(dist2[i], Point(c2[i,1], c2[i,2], c2[i,3]), Point(body_pts2[i][1], \n",
    "            body_pts2[i][2], body_pts2[i][3]))\n",
    "end   "
   ]
  },
  {
   "cell_type": "code",
   "execution_count": null,
   "metadata": {},
   "outputs": [],
   "source": [
    "# Unit test for contact normals\n",
    "points = SVector{4, SVector{3,Float64}}([ [1, 0, 0], [0, 0.2, 0.5], [1, 0.5, 0.9], [1, 0.5, 0.8] ])\n",
    "contact_directions = normal_test(points)"
   ]
  }
 ],
 "metadata": {
  "@webio": {
   "lastCommId": "6edb928853664704bfb658f171876ef7",
   "lastKernelId": "4afa012a-3d64-4c0c-81b5-620ff4ec7712"
  },
  "kernelspec": {
   "display_name": "Julia 1.3.0",
   "language": "julia",
   "name": "julia-1.3"
  },
  "language_info": {
   "file_extension": ".jl",
   "mimetype": "application/julia",
   "name": "julia",
   "version": "1.3.0"
  }
 },
 "nbformat": 4,
 "nbformat_minor": 4
}
